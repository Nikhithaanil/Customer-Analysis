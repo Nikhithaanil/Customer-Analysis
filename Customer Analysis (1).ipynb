{
 "cells": [
  {
   "cell_type": "markdown",
   "id": "56b20464-438f-4ed9-be4f-6e1112ab571c",
   "metadata": {},
   "source": [
    "<center><h1 style=\"padding: 25px 0px; color:#0b0265; font-weight: bold; font-family: Cursive\">\n",
    "Customer Analysis </h1></center> "
   ]
  },
  {
   "cell_type": "markdown",
   "id": "fea6e6c0-e2e4-484d-9b39-d57baaf114ba",
   "metadata": {},
   "source": [
    "<left><h2 style=\"padding: 25px 0px; color:#0b0265; font-weight: bold; font-family: Cursive\">\n",
    "About the Project</h2></left>    "
   ]
  },
  {
   "cell_type": "markdown",
   "id": "8a5e477a-7ad4-4c21-959b-fc86614f9d10",
   "metadata": {},
   "source": [
    "This project entails carrying out customer analysis by performing supervised and unsupervised machine learning models. The main objective of the project was to design two models as follows: -\n",
    "\n",
    "Customer Analysis (unsupervised learning) using the KMeans Clustering method.\n",
    "\n",
    "A classification model (supervised learning) to determine whether customers will purchase the company’s product or not.\n",
    "\n",
    "Generally, this report outlines the dataset used, the methodology employed, and the steps for training and evaluation, and provides an in-depth analysis of the model's performance and its potential applications."
   ]
  },
  {
   "cell_type": "markdown",
   "id": "1b328a7e-9eb6-4b98-a91b-7c7fa0212421",
   "metadata": {},
   "source": [
    "<h3 style=\"padding: 5px 0px; color:#0b0265; font-weight: bold; font-family: Cursive\">\n",
    "Dataset Features</h3>"
   ]
  },
  {
   "cell_type": "markdown",
   "id": "d1217683-8126-4df9-a827-cbf564e9c10e",
   "metadata": {},
   "source": [
    "**People:**\n",
    "\n",
    "* `ID`: Customer's unique identifier\n",
    "* `Year_Birth`: Customer's birth year\n",
    "* `Education`: Customer's education level\n",
    "* `Marital_Status`: Customer's marital status\n",
    "* `Income`: Customer's yearly household income\n",
    "* `Kidhome`: Number of children in customer's household\n",
    "* `Teenhome`: Number of teenagers in customer's household\n",
    "* `Dt_Customer`: Date of customer's enrollment with the company\n",
    "* `Recency`: Number of days since customer's last purchase\n",
    "* `Complain`: 1 if the customer complained in the last 2 years, 0 otherwise\n",
    "\n",
    "**Products:**\n",
    "\n",
    "* `MntWines`: Amount spent on wine in last 2 years\n",
    "* `MntFruits`: Amount spent on fruits in last 2 years\n",
    "* `MntMeatProducts`: Amount spent on meat in last 2 years\n",
    "* `MntFishProducts`: Amount spent on fish in last 2 years\n",
    "* `MntSweetProducts`: Amount spent on sweets in last 2 years\n",
    "* `MntGoldProds`: Amount spent on gold in last 2 years\n",
    "\n",
    "**Promotion:**\n",
    "\n",
    "* `NumDealsPurchases`: Number of purchases made with a discount\n",
    "* `AcceptedCmp1`: 1 if customer accepted the offer in the 1st campaign, 0 otherwise\n",
    "* `AcceptedCmp2`: 1 if customer accepted the offer in the 2nd campaign, 0 otherwise\n",
    "* `AcceptedCmp3`: 1 if customer accepted the offer in the 3rd campaign, 0 otherwise\n",
    "* `AcceptedCmp4`: 1 if customer accepted the offer in the 4th campaign, 0 otherwise\n",
    "* `AcceptedCmp5`: 1 if customer accepted the offer in the 5th campaign, 0 otherwise\n",
    "* `Response`: 1 if customer accepted the offer in the last campaign, 0 otherwise\n",
    "\n",
    "**Place:**\n",
    "\n",
    "* `NumWebPurchases`: Number of purchases made through the company’s website\n",
    "* `NumCatalogPurchases`: Number of purchases made using a catalogue\n",
    "* `NumStorePurchases`: Number of purchases made directly in stores\n",
    "* `NumWebVisitsMonth`: Number of visits to company’s website in the last month"
   ]
  },
  {
   "cell_type": "markdown",
   "id": "ab836607-ed76-4045-bffe-32022b26b09d",
   "metadata": {},
   "source": [
    "***Python Libraries Used in this Project***"
   ]
  },
  {
   "cell_type": "code",
   "execution_count": 2,
   "id": "8c2c1b68-1dff-4c2f-937d-45a06e5c4ca2",
   "metadata": {},
   "outputs": [],
   "source": [
    "'''\n",
    "importing various libraries to be used in the code\n",
    "'''\n",
    "import pandas as pd\n",
    "import numpy as np\n",
    "import seaborn as sns\n",
    "import matplotlib.pyplot as plt\n",
    "from sklearn.preprocessing import LabelEncoder\n",
    "from sklearn.model_selection import train_test_split\n",
    "from sklearn.model_selection import cross_val_score\n",
    "from sklearn import metrics\n",
    "from sklearn.linear_model import LogisticRegression\n",
    "from sklearn.tree import DecisionTreeClassifier\n",
    "from sklearn.ensemble import RandomForestClassifier\n",
    "from sklearn.ensemble import GradientBoostingClassifier\n",
    "from sklearn.neighbors import KNeighborsClassifier\n",
    "import xgboost as xgb\n",
    "from xgboost import XGBClassifier\n",
    "from sklearn.metrics import classification_report\n",
    "from sklearn.metrics import confusion_matrix\n",
    "from sklearn.ensemble import BaggingClassifier\n",
    "from sklearn.decomposition import PCA\n",
    "from sklearn.cluster import KMeans\n",
    "from sklearn.preprocessing import StandardScaler"
   ]
  },
  {
   "cell_type": "markdown",
   "id": "8eb0d377-0ae6-436d-a726-a44471d4a6ee",
   "metadata": {},
   "source": [
    "***Reading The CSV File***"
   ]
  },
  {
   "cell_type": "code",
   "execution_count": 3,
   "id": "1719d127-2ac6-4978-b5f8-9568fc50ce32",
   "metadata": {},
   "outputs": [],
   "source": [
    "data = pd.read_csv(\"customer_train.csv\") "
   ]
  },
  {
   "cell_type": "markdown",
   "id": "58957844-5b23-4ba2-bb7b-6b331d2ce078",
   "metadata": {},
   "source": [
    "***EDA (Exploratory Data Analysis):***"
   ]
  },
  {
   "cell_type": "markdown",
   "id": "3b8d1629-776d-4e97-9d7a-cc46b5692559",
   "metadata": {},
   "source": [
    "**Data Cleaning, Handling Null Values, Feature Selection and Engineering, and Data Visualization.**"
   ]
  },
  {
   "cell_type": "code",
   "execution_count": 4,
   "id": "8435f345-70be-40a2-8a97-7b4a98a895e5",
   "metadata": {},
   "outputs": [
    {
     "data": {
      "text/plain": [
       "(1680, 31)"
      ]
     },
     "execution_count": 4,
     "metadata": {},
     "output_type": "execute_result"
    }
   ],
   "source": [
    "data.shape"
   ]
  },
  {
   "cell_type": "code",
   "execution_count": 5,
   "id": "671dd340-9625-48d2-8075-977068ec596b",
   "metadata": {},
   "outputs": [
    {
     "data": {
      "text/html": [
       "<div>\n",
       "<style scoped>\n",
       "    .dataframe tbody tr th:only-of-type {\n",
       "        vertical-align: middle;\n",
       "    }\n",
       "\n",
       "    .dataframe tbody tr th {\n",
       "        vertical-align: top;\n",
       "    }\n",
       "\n",
       "    .dataframe thead th {\n",
       "        text-align: right;\n",
       "    }\n",
       "</style>\n",
       "<table border=\"1\" class=\"dataframe\">\n",
       "  <thead>\n",
       "    <tr style=\"text-align: right;\">\n",
       "      <th></th>\n",
       "      <th>Unnamed: 0.1</th>\n",
       "      <th>Unnamed: 0</th>\n",
       "      <th>ID</th>\n",
       "      <th>Year_Birth</th>\n",
       "      <th>Education</th>\n",
       "      <th>Marital_Status</th>\n",
       "      <th>Income</th>\n",
       "      <th>Kidhome</th>\n",
       "      <th>Teenhome</th>\n",
       "      <th>Dt_Customer</th>\n",
       "      <th>...</th>\n",
       "      <th>NumWebVisitsMonth</th>\n",
       "      <th>AcceptedCmp3</th>\n",
       "      <th>AcceptedCmp4</th>\n",
       "      <th>AcceptedCmp5</th>\n",
       "      <th>AcceptedCmp1</th>\n",
       "      <th>AcceptedCmp2</th>\n",
       "      <th>Complain</th>\n",
       "      <th>Z_CostContact</th>\n",
       "      <th>Z_Revenue</th>\n",
       "      <th>Response</th>\n",
       "    </tr>\n",
       "  </thead>\n",
       "  <tbody>\n",
       "    <tr>\n",
       "      <th>0</th>\n",
       "      <td>0</td>\n",
       "      <td>0</td>\n",
       "      <td>5524</td>\n",
       "      <td>1957</td>\n",
       "      <td>S1</td>\n",
       "      <td>Lajang</td>\n",
       "      <td>58138000.0</td>\n",
       "      <td>0</td>\n",
       "      <td>0</td>\n",
       "      <td>04-09-2012</td>\n",
       "      <td>...</td>\n",
       "      <td>7</td>\n",
       "      <td>0</td>\n",
       "      <td>0</td>\n",
       "      <td>0</td>\n",
       "      <td>0</td>\n",
       "      <td>0</td>\n",
       "      <td>0</td>\n",
       "      <td>3</td>\n",
       "      <td>11</td>\n",
       "      <td>1</td>\n",
       "    </tr>\n",
       "    <tr>\n",
       "      <th>1</th>\n",
       "      <td>1</td>\n",
       "      <td>1</td>\n",
       "      <td>2174</td>\n",
       "      <td>1954</td>\n",
       "      <td>S1</td>\n",
       "      <td>Lajang</td>\n",
       "      <td>46344000.0</td>\n",
       "      <td>1</td>\n",
       "      <td>1</td>\n",
       "      <td>08-03-2014</td>\n",
       "      <td>...</td>\n",
       "      <td>5</td>\n",
       "      <td>0</td>\n",
       "      <td>0</td>\n",
       "      <td>0</td>\n",
       "      <td>0</td>\n",
       "      <td>0</td>\n",
       "      <td>0</td>\n",
       "      <td>3</td>\n",
       "      <td>11</td>\n",
       "      <td>0</td>\n",
       "    </tr>\n",
       "    <tr>\n",
       "      <th>2</th>\n",
       "      <td>2</td>\n",
       "      <td>2</td>\n",
       "      <td>4141</td>\n",
       "      <td>1965</td>\n",
       "      <td>S1</td>\n",
       "      <td>Bertunangan</td>\n",
       "      <td>71613000.0</td>\n",
       "      <td>0</td>\n",
       "      <td>0</td>\n",
       "      <td>21-08-2013</td>\n",
       "      <td>...</td>\n",
       "      <td>4</td>\n",
       "      <td>0</td>\n",
       "      <td>0</td>\n",
       "      <td>0</td>\n",
       "      <td>0</td>\n",
       "      <td>0</td>\n",
       "      <td>0</td>\n",
       "      <td>3</td>\n",
       "      <td>11</td>\n",
       "      <td>0</td>\n",
       "    </tr>\n",
       "    <tr>\n",
       "      <th>3</th>\n",
       "      <td>3</td>\n",
       "      <td>3</td>\n",
       "      <td>6182</td>\n",
       "      <td>1984</td>\n",
       "      <td>S1</td>\n",
       "      <td>Bertunangan</td>\n",
       "      <td>26646000.0</td>\n",
       "      <td>1</td>\n",
       "      <td>0</td>\n",
       "      <td>10-02-2014</td>\n",
       "      <td>...</td>\n",
       "      <td>6</td>\n",
       "      <td>0</td>\n",
       "      <td>0</td>\n",
       "      <td>0</td>\n",
       "      <td>0</td>\n",
       "      <td>0</td>\n",
       "      <td>0</td>\n",
       "      <td>3</td>\n",
       "      <td>11</td>\n",
       "      <td>0</td>\n",
       "    </tr>\n",
       "    <tr>\n",
       "      <th>4</th>\n",
       "      <td>4</td>\n",
       "      <td>4</td>\n",
       "      <td>5324</td>\n",
       "      <td>1981</td>\n",
       "      <td>S3</td>\n",
       "      <td>Menikah</td>\n",
       "      <td>58293000.0</td>\n",
       "      <td>1</td>\n",
       "      <td>0</td>\n",
       "      <td>19-01-2014</td>\n",
       "      <td>...</td>\n",
       "      <td>5</td>\n",
       "      <td>0</td>\n",
       "      <td>0</td>\n",
       "      <td>0</td>\n",
       "      <td>0</td>\n",
       "      <td>0</td>\n",
       "      <td>0</td>\n",
       "      <td>3</td>\n",
       "      <td>11</td>\n",
       "      <td>0</td>\n",
       "    </tr>\n",
       "  </tbody>\n",
       "</table>\n",
       "<p>5 rows × 31 columns</p>\n",
       "</div>"
      ],
      "text/plain": [
       "   Unnamed: 0.1  Unnamed: 0    ID  Year_Birth Education Marital_Status  \\\n",
       "0             0           0  5524        1957        S1         Lajang   \n",
       "1             1           1  2174        1954        S1         Lajang   \n",
       "2             2           2  4141        1965        S1    Bertunangan   \n",
       "3             3           3  6182        1984        S1    Bertunangan   \n",
       "4             4           4  5324        1981        S3        Menikah   \n",
       "\n",
       "       Income  Kidhome  Teenhome Dt_Customer  ...  NumWebVisitsMonth  \\\n",
       "0  58138000.0        0         0  04-09-2012  ...                  7   \n",
       "1  46344000.0        1         1  08-03-2014  ...                  5   \n",
       "2  71613000.0        0         0  21-08-2013  ...                  4   \n",
       "3  26646000.0        1         0  10-02-2014  ...                  6   \n",
       "4  58293000.0        1         0  19-01-2014  ...                  5   \n",
       "\n",
       "   AcceptedCmp3  AcceptedCmp4  AcceptedCmp5  AcceptedCmp1  AcceptedCmp2  \\\n",
       "0             0             0             0             0             0   \n",
       "1             0             0             0             0             0   \n",
       "2             0             0             0             0             0   \n",
       "3             0             0             0             0             0   \n",
       "4             0             0             0             0             0   \n",
       "\n",
       "   Complain  Z_CostContact  Z_Revenue  Response  \n",
       "0         0              3         11         1  \n",
       "1         0              3         11         0  \n",
       "2         0              3         11         0  \n",
       "3         0              3         11         0  \n",
       "4         0              3         11         0  \n",
       "\n",
       "[5 rows x 31 columns]"
      ]
     },
     "execution_count": 5,
     "metadata": {},
     "output_type": "execute_result"
    }
   ],
   "source": [
    "data.head()"
   ]
  },
  {
   "cell_type": "code",
   "execution_count": 6,
   "id": "81873259-99dd-4ef6-8ef1-056349c4c041",
   "metadata": {},
   "outputs": [
    {
     "name": "stdout",
     "output_type": "stream",
     "text": [
      "        ID  Year_Birth Education Marital_Status      Income  Kidhome  \\\n",
      "0     5524        1957        S1         Lajang  58138000.0        0   \n",
      "1     2174        1954        S1         Lajang  46344000.0        1   \n",
      "2     4141        1965        S1    Bertunangan  71613000.0        0   \n",
      "3     6182        1984        S1    Bertunangan  26646000.0        1   \n",
      "4     5324        1981        S3        Menikah  58293000.0        1   \n",
      "...    ...         ...       ...            ...         ...      ...   \n",
      "1675  4712        1991        D3    Bertunangan  20193000.0        0   \n",
      "1676  1170        1975        S1        Menikah  27573000.0        1   \n",
      "1677  6347        1979       SMA         Lajang  15862000.0        1   \n",
      "1678  4065        1976        S3        Menikah  49544000.0        1   \n",
      "1679  8230        1980        S1        Menikah  33228000.0        1   \n",
      "\n",
      "      Teenhome Dt_Customer  Recency  MntCoke  ...  NumWebVisitsMonth  \\\n",
      "0            0  04-09-2012       58   635000  ...                  7   \n",
      "1            1  08-03-2014       38    11000  ...                  5   \n",
      "2            0  21-08-2013       26   426000  ...                  4   \n",
      "3            0  10-02-2014       26    11000  ...                  6   \n",
      "4            0  19-01-2014       94   173000  ...                  5   \n",
      "...        ...         ...      ...      ...  ...                ...   \n",
      "1675         0  28-11-2012       18     8000  ...                  4   \n",
      "1676         0  25-03-2013       45    50000  ...                  8   \n",
      "1677         0  27-06-2013       26     1000  ...                  8   \n",
      "1678         0  12-02-2013        0   308000  ...                  7   \n",
      "1679         0  23-01-2014       28    22000  ...                  7   \n",
      "\n",
      "      AcceptedCmp3  AcceptedCmp4  AcceptedCmp5  AcceptedCmp1  AcceptedCmp2  \\\n",
      "0                0             0             0             0             0   \n",
      "1                0             0             0             0             0   \n",
      "2                0             0             0             0             0   \n",
      "3                0             0             0             0             0   \n",
      "4                0             0             0             0             0   \n",
      "...            ...           ...           ...           ...           ...   \n",
      "1675             0             0             0             0             0   \n",
      "1676             0             0             0             0             0   \n",
      "1677             0             0             0             0             0   \n",
      "1678             0             0             0             0             0   \n",
      "1679             0             0             0             0             0   \n",
      "\n",
      "      Complain  Z_CostContact  Z_Revenue  Response  \n",
      "0            0              3         11         1  \n",
      "1            0              3         11         0  \n",
      "2            0              3         11         0  \n",
      "3            0              3         11         0  \n",
      "4            0              3         11         0  \n",
      "...        ...            ...        ...       ...  \n",
      "1675         0              3         11         0  \n",
      "1676         0              3         11         0  \n",
      "1677         0              3         11         0  \n",
      "1678         0              3         11         0  \n",
      "1679         0              3         11         0  \n",
      "\n",
      "[1680 rows x 29 columns]\n"
     ]
    }
   ],
   "source": [
    "# Define a function to delete a column\n",
    "def delete_column(df, column_name):\n",
    "    if column_name in df.columns:\n",
    "        del df[column_name]\n",
    "        return df\n",
    "    else:\n",
    "        print(f\"Column '{column_name}' not found in DataFrame.\")\n",
    "        return df\n",
    "\n",
    "\n",
    "# Delete column 'Unnamed'\n",
    "data = delete_column(data, 'Unnamed: 0')\n",
    "data = delete_column(data, 'Unnamed: 0.1')\n",
    "# Print the DataFrame after deleting the column\n",
    "print(data)"
   ]
  },
  {
   "cell_type": "code",
   "execution_count": 8,
   "id": "4af25a2f-49c0-485e-8b35-b2132678edcc",
   "metadata": {},
   "outputs": [
    {
     "data": {
      "text/plain": [
       "ID                      0\n",
       "Year_Birth              0\n",
       "Education               0\n",
       "Marital_Status          0\n",
       "Income                 17\n",
       "Kidhome                 0\n",
       "Teenhome                0\n",
       "Dt_Customer             0\n",
       "Recency                 0\n",
       "MntCoke                 0\n",
       "MntFruits               0\n",
       "MntMeatProducts         0\n",
       "MntFishProducts         0\n",
       "MntSweetProducts        0\n",
       "MntGoldProds            0\n",
       "NumDealsPurchases       0\n",
       "NumWebPurchases         0\n",
       "NumCatalogPurchases     0\n",
       "NumStorePurchases       0\n",
       "NumWebVisitsMonth       0\n",
       "AcceptedCmp3            0\n",
       "AcceptedCmp4            0\n",
       "AcceptedCmp5            0\n",
       "AcceptedCmp1            0\n",
       "AcceptedCmp2            0\n",
       "Complain                0\n",
       "Z_CostContact           0\n",
       "Z_Revenue               0\n",
       "Response                0\n",
       "dtype: int64"
      ]
     },
     "execution_count": 8,
     "metadata": {},
     "output_type": "execute_result"
    }
   ],
   "source": [
    "'''\n",
    "Checking the data for possible null values\n",
    "'''\n",
    "data.isnull().sum() # notice that the \"Income\" column has about 17 rows with null values\n",
    "                    # hence, required to handle the null values accordingly"
   ]
  },
  {
   "cell_type": "code",
   "execution_count": 9,
   "id": "5957e258-083b-4a9e-aa9a-cf5d8afb456c",
   "metadata": {},
   "outputs": [
    {
     "data": {
      "text/plain": [
       "ID                     0\n",
       "Year_Birth             0\n",
       "Education              0\n",
       "Marital_Status         0\n",
       "Income                 0\n",
       "Kidhome                0\n",
       "Teenhome               0\n",
       "Dt_Customer            0\n",
       "Recency                0\n",
       "MntCoke                0\n",
       "MntFruits              0\n",
       "MntMeatProducts        0\n",
       "MntFishProducts        0\n",
       "MntSweetProducts       0\n",
       "MntGoldProds           0\n",
       "NumDealsPurchases      0\n",
       "NumWebPurchases        0\n",
       "NumCatalogPurchases    0\n",
       "NumStorePurchases      0\n",
       "NumWebVisitsMonth      0\n",
       "AcceptedCmp3           0\n",
       "AcceptedCmp4           0\n",
       "AcceptedCmp5           0\n",
       "AcceptedCmp1           0\n",
       "AcceptedCmp2           0\n",
       "Complain               0\n",
       "Z_CostContact          0\n",
       "Z_Revenue              0\n",
       "Response               0\n",
       "dtype: int64"
      ]
     },
     "execution_count": 9,
     "metadata": {},
     "output_type": "execute_result"
    }
   ],
   "source": [
    "\n",
    "data['Income'].fillna(data['Income'].mean(skipna=True), inplace=True)  # filling the null values with the mean.\n",
    "data.isnull().sum()# cross-checking the dataframe"
   ]
  },
  {
   "cell_type": "markdown",
   "id": "0464a44c-81b2-4014-be04-b7db08990159",
   "metadata": {},
   "source": [
    "***Feature Engineering***"
   ]
  },
  {
   "cell_type": "code",
   "execution_count": 10,
   "id": "5b6a652d-42db-48b5-b7a9-b9e9d9cd8839",
   "metadata": {},
   "outputs": [
    {
     "data": {
      "text/plain": [
       "array([1, 0], dtype=int64)"
      ]
     },
     "execution_count": 10,
     "metadata": {},
     "output_type": "execute_result"
    }
   ],
   "source": [
    "\n",
    "data['AcceptedCmp1'].unique()\n",
    "data['AcceptedCmp2'].unique()\n",
    "data['AcceptedCmp3'].unique()\n",
    "data['AcceptedCmp4'].unique()\n",
    "data['AcceptedCmp5'].unique()\n",
    "data['Response'].unique()"
   ]
  },
  {
   "cell_type": "markdown",
   "id": "77f54633-830e-4151-ac82-2db19466d2c2",
   "metadata": {},
   "source": [
    "The output array([1, 0], dtype=int64) indicates that the unique values present in each of the specified columns (AcceptedCmp1, AcceptedCmp2, AcceptedCmp3, AcceptedCmp4, AcceptedCmp5, and Response) are 1 and 0.\n",
    "\n",
    "The fact that the unique values in each of these columns are [1, 0] suggests that the data is binary, representing yes/no or true/false outcomes for each campaign acceptance and the response."
   ]
  },
  {
   "cell_type": "code",
   "execution_count": 11,
   "id": "69a85e4e-deac-4c95-85a8-c39aedce88c7",
   "metadata": {},
   "outputs": [],
   "source": [
    "'''\n",
    "Since 'AcceptedCmp1', 'AcceptedCmp2', 'AcceptedCmp3', 'AcceptedCmp4', 'AcceptedCmp5', and 'Response' all represents the costumers decision to buy or not to buy during promotion campaigns,\n",
    "we merge the 6 columns into 1.\n",
    "The new column is called \"Purchased\".\n",
    "'''\n",
    "data['Purchased'] = np.where((data['AcceptedCmp1'] + data['AcceptedCmp2'] + data['AcceptedCmp3'] + data['AcceptedCmp4'] + data['AcceptedCmp5'] + data['Response']) > 0, 1, 0) # this means, if the summation of each row from all the 6 columns is greater than 0\n",
    "                                                                                                                                                                              # then, the customer purchased the company's product i.e 1. Otherwise the customer did not purchase i.e 0\n",
    "data = data.drop('AcceptedCmp1', axis=1)\n",
    "data = data.drop('AcceptedCmp2', axis=1)\n",
    "data = data.drop('AcceptedCmp3', axis=1)\n",
    "data = data.drop('AcceptedCmp4', axis=1)\n",
    "data = data.drop('AcceptedCmp5', axis=1)\n",
    "data = data.drop('Response', axis=1)\n"
   ]
  },
  {
   "cell_type": "code",
   "execution_count": 12,
   "id": "4b184b0d-5186-4a8d-a023-b0f4e466d02a",
   "metadata": {},
   "outputs": [
    {
     "name": "stdout",
     "output_type": "stream",
     "text": [
      "Updated DataFrame:\n",
      "      ID  Year_Birth Education Marital_Status      Income  Kidhome  Teenhome  \\\n",
      "0  5524        1957        S1         Lajang  58138000.0        0         0   \n",
      "1  2174        1954        S1         Lajang  46344000.0        1         1   \n",
      "2  4141        1965        S1    Bertunangan  71613000.0        0         0   \n",
      "3  6182        1984        S1    Bertunangan  26646000.0        1         0   \n",
      "4  5324        1981        S3        Menikah  58293000.0        1         0   \n",
      "\n",
      "  Dt_Customer  Recency  MntCoke  ...  MntGoldProds  NumDealsPurchases  \\\n",
      "0  04-09-2012       58   635000  ...         88000                  3   \n",
      "1  08-03-2014       38    11000  ...          6000                  2   \n",
      "2  21-08-2013       26   426000  ...         42000                  1   \n",
      "3  10-02-2014       26    11000  ...          5000                  2   \n",
      "4  19-01-2014       94   173000  ...         15000                  5   \n",
      "\n",
      "   NumWebPurchases  NumCatalogPurchases  NumStorePurchases  NumWebVisitsMonth  \\\n",
      "0                8                   10                  4                  7   \n",
      "1                1                    1                  2                  5   \n",
      "2                8                    2                 10                  4   \n",
      "3                2                    0                  4                  6   \n",
      "4                5                    3                  6                  5   \n",
      "\n",
      "   Complain  Z_CostContact  Z_Revenue  Purchased  \n",
      "0         0              3         11          1  \n",
      "1         0              3         11          0  \n",
      "2         0              3         11          0  \n",
      "3         0              3         11          0  \n",
      "4         0              3         11          0  \n",
      "\n",
      "[5 rows x 24 columns]\n"
     ]
    }
   ],
   "source": [
    "# Display the updated DataFrame\n",
    "print(\"Updated DataFrame:\\n\", data.head())"
   ]
  },
  {
   "cell_type": "code",
   "execution_count": 13,
   "id": "1a151e5c-6f45-4468-bb95-f969b0a8940c",
   "metadata": {},
   "outputs": [
    {
     "data": {
      "text/plain": [
       "Purchased\n",
       "0    1238\n",
       "1     442\n",
       "Name: count, dtype: int64"
      ]
     },
     "execution_count": 13,
     "metadata": {},
     "output_type": "execute_result"
    }
   ],
   "source": [
    "'''\n",
    "Checking the resulting \"Purchased\" column after changes\n",
    "'''\n",
    "data['Purchased'].value_counts()          \n",
    "# The result shows that, after running 6 promotion campaigns, 442 costumers purchased while 1238 did not purchase the product."
   ]
  },
  {
   "cell_type": "code",
   "execution_count": 14,
   "id": "85cd125b-cd88-4cad-bd05-55b9da68488f",
   "metadata": {},
   "outputs": [
    {
     "data": {
      "text/plain": [
       "array([0, 1, 2], dtype=int64)"
      ]
     },
     "execution_count": 14,
     "metadata": {},
     "output_type": "execute_result"
    }
   ],
   "source": [
    "data['Kidhome'].unique()\n",
    "data['Teenhome'].unique()"
   ]
  },
  {
   "cell_type": "markdown",
   "id": "e8eaea9c-afea-4135-a2a6-b4d187a6c630",
   "metadata": {},
   "source": [
    "The output array([0, 1, 2], dtype=int64) for the columns Kidhome and Teenhome indicates that the unique values present in these columns are 0, 1, and 2."
   ]
  },
  {
   "cell_type": "code",
   "execution_count": 15,
   "id": "8ee8ee15-bc62-4fb4-934d-77fb44e8e92d",
   "metadata": {},
   "outputs": [],
   "source": [
    "'''\n",
    "Since the \"Kidhome\" and \"Teenhome\" both represents the costumers children and both have similar unique values, we will merge the 2 columns into 1.\n",
    "The new column is called \"Children\".\n",
    "'''\n",
    "data['Children'] = data['Kidhome'] + data['Teenhome']\n",
    "data = data.drop('Kidhome', axis=1)\n",
    "data = data.drop('Teenhome', axis=1)"
   ]
  },
  {
   "cell_type": "code",
   "execution_count": 16,
   "id": "a715b8ea-4b90-4dc1-aef2-46b3da92462c",
   "metadata": {},
   "outputs": [
    {
     "data": {
      "text/plain": [
       "Children\n",
       "1    836\n",
       "0    485\n",
       "2    313\n",
       "3     46\n",
       "Name: count, dtype: int64"
      ]
     },
     "execution_count": 16,
     "metadata": {},
     "output_type": "execute_result"
    }
   ],
   "source": [
    "'''\n",
    "Checking the resulting \"Children\" column after changes\n",
    "'''\n",
    "data['Children'].value_counts()         \n",
    "# The result shows that 1195 costumers have children at home while 485 do not have children at home."
   ]
  },
  {
   "cell_type": "code",
   "execution_count": 17,
   "id": "b4fe463f-f27d-4996-9f06-d296194ce6db",
   "metadata": {},
   "outputs": [
    {
     "data": {
      "image/png": "[encoded data removed]",
      "text/plain": [
       "<Figure size 640x480 with 1 Axes>"
      ]
     },
     "metadata": {},
     "output_type": "display_data"
    },
    {
     "data": {
      "text/plain": [
       "<Figure size 640x480 with 0 Axes>"
      ]
     },
     "metadata": {},
     "output_type": "display_data"
    }
   ],
   "source": [
    "'''\n",
    "Creating the countplot of the number of purchases by customers children.\n",
    "'''\n",
    "ax = sns.countplot(x='Children', hue='Purchased', data=data)\n",
    "\n",
    "for p in ax.patches:\n",
    "    ax.annotate(format(p.get_height(), '.0f'), (p.get_x() + p.get_width() / 2., p.get_height()), ha = 'center', va = 'center', xytext = (0, 5), textcoords = 'offset points')\n",
    "plt.title('Purchase count by Customers children')\n",
    "plt.show()\n",
    "plt.savefig('Purchase count by Customers children.png')"
   ]
  },
  {
   "cell_type": "code",
   "execution_count": 18,
   "id": "d892c206-cd36-4e3d-83ef-4fdbbe054f22",
   "metadata": {},
   "outputs": [
    {
     "data": {
      "text/plain": [
       "array(['Lajang', 'Bertunangan', 'Menikah', 'Cerai', 'Janda', 'Duda'],\n",
       "      dtype=object)"
      ]
     },
     "execution_count": 18,
     "metadata": {},
     "output_type": "execute_result"
    }
   ],
   "source": [
    "data['Marital_Status'].unique() \n",
    "# notice that the marital status has about 6 distinctive statuses. This is not good for our classification task because classification is binary.\n",
    "                                # hence, it is necessary to change the 6 distinctive statuses to 2 unique statuses."
   ]
  },
  {
   "cell_type": "code",
   "execution_count": 19,
   "id": "e9085fb9-39d8-46b8-a45d-9940727f7bec",
   "metadata": {},
   "outputs": [],
   "source": [
    "'''\n",
    "Choosing the status \"single\" and \"in a relationship\" as the 2 unique statuses\n",
    "'''\n",
    "data.loc[data['Marital_Status'] == 'Lajang', 'Marital_Status'] = 'Single'\n",
    "data.loc[data['Marital_Status'] == 'Bertunangan', 'Marital_Status'] = 'In a Relationship'\n",
    "data.loc[data['Marital_Status'] == 'Menikah', 'Marital_Status'] = 'In a Relationship'\n",
    "data.loc[data['Marital_Status'] == 'Cerai', 'Marital_Status'] = 'Single'\n",
    "data.loc[data['Marital_Status'] == 'Janda', 'Marital_Status'] = 'Single'\n",
    "data.loc[data['Marital_Status'] == 'Duda', 'Marital_Status'] = 'Single'\n",
    "\n",
    "\n",
    "\n",
    "#It looks like you have an array of marital statuses in Indonesian. Here's the translation of each term:\n",
    "\n",
    "#Lajang: Single\n",
    "#Bertunangan: Engaged\n",
    "#Menikah: Married\n",
    "#Cerai: Divorced\n",
    "#Janda: Widow (female)\n",
    "#Duda: Widower (male)\n"
   ]
  },
  {
   "cell_type": "code",
   "execution_count": 20,
   "id": "b534a7e4-6bfa-40a8-84be-9332dbb101d2",
   "metadata": {},
   "outputs": [
    {
     "data": {
      "text/plain": [
       "Marital_Status\n",
       "In a Relationship    1088\n",
       "Single                592\n",
       "Name: count, dtype: int64"
      ]
     },
     "execution_count": 20,
     "metadata": {},
     "output_type": "execute_result"
    }
   ],
   "source": [
    "'''\n",
    "Checking the resulting \"Marital_Status\" column after the changes\n",
    "'''\n",
    "data['Marital_Status'].value_counts()    # The result shows that 1,444 costumers are in a relationship while 796 costumers are single."
   ]
  },
  {
   "cell_type": "code",
   "execution_count": 21,
   "id": "443276aa-216a-4a73-a33e-9359d3a5caca",
   "metadata": {},
   "outputs": [
    {
     "data": {
      "image/png": "[encoded data removed]",
      "text/plain": [
       "<Figure size 640x480 with 1 Axes>"
      ]
     },
     "metadata": {},
     "output_type": "display_data"
    },
    {
     "data": {
      "text/plain": [
       "<Figure size 640x480 with 0 Axes>"
      ]
     },
     "metadata": {},
     "output_type": "display_data"
    }
   ],
   "source": [
    "'''\n",
    "Creating the countplot of the number of purchases by customers marital status.\n",
    "'''\n",
    "ax = sns.countplot(x='Marital_Status', hue='Purchased', data=data)\n",
    "\n",
    "for p in ax.patches:\n",
    "    ax.annotate(format(p.get_height(), '.0f'), (p.get_x() + p.get_width() / 2., p.get_height()), ha = 'center', va = 'center', xytext = (0, 5), textcoords = 'offset points')\n",
    "plt.title('Purchase count by Marital Status')\n",
    "plt.show()\n",
    "plt.savefig('Purchase count by Marital Status.png')\n",
    "\n",
    "#From the viz, customers in a relationship are purchasing the product more that customers who are single.\n",
    "#Nevertheless, the majority of customers not purchasing the product are also in a relationship.\n"
   ]
  },
  {
   "cell_type": "code",
   "execution_count": 22,
   "id": "561aef5a-276d-4d63-ae3b-a2744c2ca45f",
   "metadata": {},
   "outputs": [
    {
     "data": {
      "text/plain": [
       "Age\n",
       "48     66\n",
       "52     65\n",
       "54     62\n",
       "49     61\n",
       "46     61\n",
       "59     60\n",
       "53     60\n",
       "51     58\n",
       "55     53\n",
       "50     49\n",
       "66     45\n",
       "64     42\n",
       "72     41\n",
       "68     40\n",
       "47     38\n",
       "45     38\n",
       "65     38\n",
       "58     37\n",
       "70     36\n",
       "56     35\n",
       "57     35\n",
       "62     34\n",
       "61     34\n",
       "42     33\n",
       "69     33\n",
       "38     33\n",
       "71     31\n",
       "63     30\n",
       "60     30\n",
       "41     29\n",
       "67     28\n",
       "43     28\n",
       "44     28\n",
       "35     27\n",
       "73     26\n",
       "36     26\n",
       "39     24\n",
       "37     22\n",
       "40     21\n",
       "74     20\n",
       "75     18\n",
       "76     18\n",
       "78     13\n",
       "33     12\n",
       "34     11\n",
       "32      9\n",
       "77      8\n",
       "80      7\n",
       "79      6\n",
       "81      5\n",
       "31      4\n",
       "30      3\n",
       "29      3\n",
       "28      2\n",
       "125     1\n",
       "131     1\n",
       "83      1\n",
       "124     1\n",
       "Name: count, dtype: int64"
      ]
     },
     "execution_count": 22,
     "metadata": {},
     "output_type": "execute_result"
    }
   ],
   "source": [
    "'''\n",
    "For computational convinience, the birth year should be changed to Age.\n",
    "Therefore, we create a new column called \"Age\", and also drop the \" Year_Birth\" column\n",
    "'''\n",
    "import datetime\n",
    "\n",
    "current_year = datetime.datetime.now().year\n",
    "data['Age'] = current_year - data['Year_Birth']\n",
    "data.drop('Year_Birth', axis=1, inplace=True)\n",
    "data['Age'].value_counts()"
   ]
  },
  {
   "cell_type": "code",
   "execution_count": 23,
   "id": "92c66916-c658-4978-8563-22fb4e9d8ae3",
   "metadata": {},
   "outputs": [
    {
     "data": {
      "image/png": "[encoded data removed]",
      "text/plain": [
       "<Figure size 640x480 with 1 Axes>"
      ]
     },
     "metadata": {},
     "output_type": "display_data"
    }
   ],
   "source": [
    "sns.boxplot(data['Age'])\n",
    "plt.savefig('Age Boxplot.png')"
   ]
  },
  {
   "cell_type": "code",
   "execution_count": null,
   "id": "8d77dcce-42c9-4817-81cd-e833594b84d4",
   "metadata": {},
   "outputs": [],
   "source": [
    "#Outliers"
   ]
  },
  {
   "cell_type": "code",
   "execution_count": 24,
   "id": "a055861e-aa53-4dfb-9b70-66ff74a54f43",
   "metadata": {},
   "outputs": [
    {
     "name": "stdout",
     "output_type": "stream",
     "text": [
      "Outliers:\n",
      "        ID Education     Marital_Status      Income Dt_Customer  Recency  \\\n",
      "192   7829        D3             Single  36640000.0  26-09-2013       99   \n",
      "239  11004        D3             Single  60182000.0  17-05-2014       23   \n",
      "339   1150        S3  In a Relationship  83532000.0  26-09-2013       36   \n",
      "\n",
      "     MntCoke  MntFruits  MntMeatProducts  MntFishProducts  ...  \\\n",
      "192    15000       6000             8000             7000  ...   \n",
      "239     8000          0             5000             7000  ...   \n",
      "339   755000     144000           562000           104000  ...   \n",
      "\n",
      "     NumWebPurchases  NumCatalogPurchases  NumStorePurchases  \\\n",
      "192                2                    1                  2   \n",
      "239                1                    0                  2   \n",
      "339                4                    6                  4   \n",
      "\n",
      "     NumWebVisitsMonth  Complain  Z_CostContact  Z_Revenue  Purchased  \\\n",
      "192                  5         1              3         11          0   \n",
      "239                  4         0              3         11          0   \n",
      "339                  1         0              3         11          1   \n",
      "\n",
      "     Children  Age  \n",
      "192         1  124  \n",
      "239         1  131  \n",
      "339         0  125  \n",
      "\n",
      "[3 rows x 23 columns]\n",
      "\n",
      "Filtered Data:\n",
      "        ID Education     Marital_Status      Income Dt_Customer  Recency  \\\n",
      "0     5524        S1             Single  58138000.0  04-09-2012       58   \n",
      "1     2174        S1             Single  46344000.0  08-03-2014       38   \n",
      "2     4141        S1  In a Relationship  71613000.0  21-08-2013       26   \n",
      "3     6182        S1  In a Relationship  26646000.0  10-02-2014       26   \n",
      "4     5324        S3  In a Relationship  58293000.0  19-01-2014       94   \n",
      "...    ...       ...                ...         ...         ...      ...   \n",
      "1675  4712        D3  In a Relationship  20193000.0  28-11-2012       18   \n",
      "1676  1170        S1  In a Relationship  27573000.0  25-03-2013       45   \n",
      "1677  6347       SMA             Single  15862000.0  27-06-2013       26   \n",
      "1678  4065        S3  In a Relationship  49544000.0  12-02-2013        0   \n",
      "1679  8230        S1  In a Relationship  33228000.0  23-01-2014       28   \n",
      "\n",
      "      MntCoke  MntFruits  MntMeatProducts  MntFishProducts  ...  \\\n",
      "0      635000      88000           546000           172000  ...   \n",
      "1       11000       1000             6000             2000  ...   \n",
      "2      426000      49000           127000           111000  ...   \n",
      "3       11000       4000            20000            10000  ...   \n",
      "4      173000      43000           118000            46000  ...   \n",
      "...       ...        ...              ...              ...  ...   \n",
      "1675     8000       8000            22000            24000  ...   \n",
      "1676    50000      15000           110000            39000  ...   \n",
      "1677     1000       1000             4000            11000  ...   \n",
      "1678   308000          0            73000                0  ...   \n",
      "1679    22000       2000            31000             7000  ...   \n",
      "\n",
      "      NumWebPurchases  NumCatalogPurchases  NumStorePurchases  \\\n",
      "0                   8                   10                  4   \n",
      "1                   1                    1                  2   \n",
      "2                   8                    2                 10   \n",
      "3                   2                    0                  4   \n",
      "4                   5                    3                  6   \n",
      "...               ...                  ...                ...   \n",
      "1675                1                    1                  4   \n",
      "1676                5                    1                  4   \n",
      "1677                1                    0                  3   \n",
      "1678                5                    1                  8   \n",
      "1679                2                    0                  3   \n",
      "\n",
      "      NumWebVisitsMonth  Complain  Z_CostContact  Z_Revenue  Purchased  \\\n",
      "0                     7         0              3         11          1   \n",
      "1                     5         0              3         11          0   \n",
      "2                     4         0              3         11          0   \n",
      "3                     6         0              3         11          0   \n",
      "4                     5         0              3         11          0   \n",
      "...                 ...       ...            ...        ...        ...   \n",
      "1675                  4         0              3         11          0   \n",
      "1676                  8         0              3         11          0   \n",
      "1677                  8         0              3         11          0   \n",
      "1678                  7         0              3         11          0   \n",
      "1679                  7         0              3         11          0   \n",
      "\n",
      "      Children  Age  \n",
      "0            0   67  \n",
      "1            2   70  \n",
      "2            0   59  \n",
      "3            1   40  \n",
      "4            1   43  \n",
      "...        ...  ...  \n",
      "1675         0   33  \n",
      "1676         1   49  \n",
      "1677         1   45  \n",
      "1678         1   48  \n",
      "1679         1   44  \n",
      "\n",
      "[1677 rows x 23 columns]\n"
     ]
    }
   ],
   "source": [
    "import numpy as np\n",
    "import pandas as pd\n",
    "\n",
    "\n",
    "\n",
    "# Calculate Q1 (25th percentile) and Q3 (75th percentile)\n",
    "Q1 = np.percentile(data['Age'], 25)\n",
    "Q3 = np.percentile(data['Age'], 75)\n",
    "\n",
    "# Calculate IQR\n",
    "IQR = Q3 - Q1\n",
    "\n",
    "# Define bounds for outliers\n",
    "lower_bound = Q1 - 1.5 * IQR\n",
    "upper_bound = Q3 + 1.5 * IQR\n",
    "\n",
    "# Identify outliers\n",
    "outliers = data[(data['Age'] < lower_bound) | (data['Age'] > upper_bound)]\n",
    "\n",
    "# Filter out the outliers\n",
    "filtered_data = data[(data['Age'] >= lower_bound) & (data['Age'] <= upper_bound)]\n",
    "\n",
    "print(\"Outliers:\")\n",
    "print(outliers)\n",
    "print(\"\\nFiltered Data:\")\n",
    "print(filtered_data)\n"
   ]
  },
  {
   "cell_type": "code",
   "execution_count": 25,
   "id": "839869f3-6e96-4c85-8069-7327539c1c6c",
   "metadata": {},
   "outputs": [],
   "source": [
    "data = data[data['Age']<100] # filtering the outliers.\n",
    "#the filtering code data = data[data['Age']<100] is a way to filter outliers, assuming ages above 100 are considered outliers in your dataset."
   ]
  },
  {
   "cell_type": "code",
   "execution_count": 26,
   "id": "dec1f05f-f0f2-45a9-8990-e1e77666c868",
   "metadata": {},
   "outputs": [
    {
     "data": {
      "image/png": "[encoded data removed]",
      "text/plain": [
       "<Figure size 640x480 with 1 Axes>"
      ]
     },
     "metadata": {},
     "output_type": "display_data"
    },
    {
     "data": {
      "text/plain": [
       "\"\\nThe customers age is normally distributed whereby the majority of customers are in their 50's.\\nCustomers in their 40's are have the second highest frequency while customers in their 60's have the third.\\nThe distribution of customers in their 30's and 70's is relatively similar with about 250 total customers.\\nThere are few customers in their 20's and even fewer customers in their 80's.\\n\""
      ]
     },
     "execution_count": 26,
     "metadata": {},
     "output_type": "execute_result"
    },
    {
     "data": {
      "text/plain": [
       "<Figure size 640x480 with 0 Axes>"
      ]
     },
     "metadata": {},
     "output_type": "display_data"
    }
   ],
   "source": [
    "hist, bins = np.histogram(data['Age'], bins=np.arange(0, data['Age'].max() + 10, 10))\n",
    "\n",
    "plt.bar(bins[:-1], hist, width=10, edgecolor='black')\n",
    "\n",
    "plt.xlabel('Age')\n",
    "plt.ylabel('Number of Customers')\n",
    "plt.title('Customers Age Distribution')\n",
    "plt.show()\n",
    "plt.savefig('Customers Age Distribution.png')\n",
    "'''\n",
    "The customers age is normally distributed whereby the majority of customers are in their 50's.\n",
    "Customers in their 40's are have the second highest frequency while customers in their 60's have the third.\n",
    "The distribution of customers in their 30's and 70's is relatively similar with about 250 total customers.\n",
    "There are few customers in their 20's and even fewer customers in their 80's.\n",
    "'''"
   ]
  },
  {
   "cell_type": "code",
   "execution_count": 27,
   "id": "7e8428e5-af40-4bf5-a3ea-715703654ef9",
   "metadata": {},
   "outputs": [
    {
     "data": {
      "image/png": "[encoded data removed]",
      "text/plain": [
       "<Figure size 640x480 with 1 Axes>"
      ]
     },
     "metadata": {},
     "output_type": "display_data"
    }
   ],
   "source": [
    "sns.boxplot(data['Income'])\n",
    "plt.savefig('Income Boxplot.png')\n"
   ]
  },
  {
   "cell_type": "code",
   "execution_count": 25,
   "id": "866e8302-b34e-4402-88af-e6335d61da5c",
   "metadata": {},
   "outputs": [],
   "source": [
    "#data = data[data['Income']<1.2] # filtering the outliers."
   ]
  },
  {
   "cell_type": "code",
   "execution_count": 28,
   "id": "d0453af5-1b4b-4c33-a45c-835babb89fab",
   "metadata": {},
   "outputs": [
    {
     "data": {
      "text/plain": [
       "ID                       int64\n",
       "Education               object\n",
       "Marital_Status          object\n",
       "Income                 float64\n",
       "Dt_Customer             object\n",
       "Recency                  int64\n",
       "MntCoke                  int64\n",
       "MntFruits                int64\n",
       "MntMeatProducts          int64\n",
       "MntFishProducts          int64\n",
       "MntSweetProducts         int64\n",
       "MntGoldProds             int64\n",
       "NumDealsPurchases        int64\n",
       "NumWebPurchases          int64\n",
       "NumCatalogPurchases      int64\n",
       "NumStorePurchases        int64\n",
       "NumWebVisitsMonth        int64\n",
       "Complain                 int64\n",
       "Z_CostContact            int64\n",
       "Z_Revenue                int64\n",
       "Purchased                int32\n",
       "Children                 int64\n",
       "Age                      int64\n",
       "dtype: object"
      ]
     },
     "execution_count": 28,
     "metadata": {},
     "output_type": "execute_result"
    }
   ],
   "source": [
    "data.dtypes\n"
   ]
  },
  {
   "cell_type": "code",
   "execution_count": 29,
   "id": "3e8fd5fb-3a42-4cfc-8fc2-f0dbe4d11540",
   "metadata": {},
   "outputs": [
    {
     "name": "stdout",
     "output_type": "stream",
     "text": [
      "ID                              int64\n",
      "Education                      object\n",
      "Marital_Status                 object\n",
      "Income                        float64\n",
      "Dt_Customer            datetime64[ns]\n",
      "Recency                         int64\n",
      "MntCoke                         int64\n",
      "MntFruits                       int64\n",
      "MntMeatProducts                 int64\n",
      "MntFishProducts                 int64\n",
      "MntSweetProducts                int64\n",
      "MntGoldProds                    int64\n",
      "NumDealsPurchases               int64\n",
      "NumWebPurchases                 int64\n",
      "NumCatalogPurchases             int64\n",
      "NumStorePurchases               int64\n",
      "NumWebVisitsMonth               int64\n",
      "Complain                        int64\n",
      "Z_CostContact                   int64\n",
      "Z_Revenue                       int64\n",
      "Purchased                       int32\n",
      "Children                        int64\n",
      "Age                             int64\n",
      "dtype: object\n"
     ]
    }
   ],
   "source": [
    "# ignore warnings\n",
    "import warnings\n",
    "warnings.filterwarnings('ignore')\n",
    "# Convert 'Dt_Customer' column to datetime format\n",
    "data['Dt_Customer'] = pd.to_datetime(data['Dt_Customer'], format='%d-%m-%Y')\n",
    "print(data.dtypes)"
   ]
  },
  {
   "cell_type": "code",
   "execution_count": 30,
   "id": "c850e664-98a9-462e-84f1-c4b4857ba330",
   "metadata": {},
   "outputs": [
    {
     "data": {
      "text/plain": [
       "Dt_Customer\n",
       "2012-07-01     2\n",
       "2012-08-01    88\n",
       "2012-09-01    71\n",
       "2012-10-01    66\n",
       "2012-11-01    75\n",
       "2012-12-01    67\n",
       "2013-01-01    81\n",
       "2013-02-01    67\n",
       "2013-03-01    72\n",
       "2013-04-01    74\n",
       "2013-05-01    82\n",
       "2013-06-01    68\n",
       "2013-07-01    76\n",
       "2013-08-01    79\n",
       "2013-09-01    66\n",
       "2013-10-01    88\n",
       "2013-11-01    69\n",
       "2013-12-01    76\n",
       "2014-01-01    62\n",
       "2014-02-01    61\n",
       "2014-03-01    79\n",
       "2014-04-01    68\n",
       "2014-05-01    88\n",
       "2014-06-01    52\n",
       "Freq: MS, dtype: int64"
      ]
     },
     "execution_count": 30,
     "metadata": {},
     "output_type": "execute_result"
    }
   ],
   "source": [
    "Monthly_Enrollment = data.set_index(data['Dt_Customer']).resample('MS').size() \n",
    "# Setting the date as the index, grouping it by months, and counting the total number of customer enrollment in each month.\n",
    "\n",
    "Monthly_Enrollment"
   ]
  },
  {
   "cell_type": "code",
   "execution_count": 31,
   "id": "a3f70211-f99a-41e7-886c-944295d298b0",
   "metadata": {},
   "outputs": [
    {
     "data": {
      "image/png": "[encoded data removed]",
      "text/plain": [
       "<Figure size 640x480 with 1 Axes>"
      ]
     },
     "metadata": {},
     "output_type": "display_data"
    },
    {
     "data": {
      "text/plain": [
       "<Figure size 640x480 with 0 Axes>"
      ]
     },
     "metadata": {},
     "output_type": "display_data"
    }
   ],
   "source": [
    "plt.hist(Monthly_Enrollment)\n",
    "plt.xlabel('Number of Customers Enrolled')\n",
    "plt.ylabel('Frequency')\n",
    "plt.title('Distribution of Customer Enrollment')\n",
    "plt.show()\n",
    "plt. savefig('Distribution of Customer Enrollment.png')"
   ]
  },
  {
   "cell_type": "code",
   "execution_count": 32,
   "id": "9285c19f-426e-48e7-959c-afdbaa544e2d",
   "metadata": {},
   "outputs": [],
   "source": [
    "data['Total_Spending'] = data['MntCoke']+data['MntFruits']+data['MntMeatProducts']+data['MntFishProducts']+data['MntSweetProducts']+data['MntGoldProds']"
   ]
  },
  {
   "cell_type": "code",
   "execution_count": 33,
   "id": "04e32c64-ffa0-4543-a54a-6b43de6a0994",
   "metadata": {},
   "outputs": [],
   "source": [
    "data.drop(['ID', 'Z_CostContact', 'Z_Revenue', 'MntCoke', 'MntFruits', 'MntMeatProducts', 'MntFishProducts', 'MntSweetProducts', 'MntGoldProds'], axis=1, inplace=True)"
   ]
  },
  {
   "cell_type": "code",
   "execution_count": 34,
   "id": "4bfdd994-a5c1-4e35-bd59-73dfb089842d",
   "metadata": {},
   "outputs": [
    {
     "data": {
      "text/html": [
       "<div>\n",
       "<style scoped>\n",
       "    .dataframe tbody tr th:only-of-type {\n",
       "        vertical-align: middle;\n",
       "    }\n",
       "\n",
       "    .dataframe tbody tr th {\n",
       "        vertical-align: top;\n",
       "    }\n",
       "\n",
       "    .dataframe thead th {\n",
       "        text-align: right;\n",
       "    }\n",
       "</style>\n",
       "<table border=\"1\" class=\"dataframe\">\n",
       "  <thead>\n",
       "    <tr style=\"text-align: right;\">\n",
       "      <th></th>\n",
       "      <th>Income</th>\n",
       "      <th>Dt_Customer</th>\n",
       "      <th>Recency</th>\n",
       "      <th>NumDealsPurchases</th>\n",
       "      <th>NumWebPurchases</th>\n",
       "      <th>NumCatalogPurchases</th>\n",
       "      <th>NumStorePurchases</th>\n",
       "      <th>NumWebVisitsMonth</th>\n",
       "      <th>Complain</th>\n",
       "      <th>Purchased</th>\n",
       "      <th>Children</th>\n",
       "      <th>Age</th>\n",
       "      <th>Total_Spending</th>\n",
       "    </tr>\n",
       "  </thead>\n",
       "  <tbody>\n",
       "    <tr>\n",
       "      <th>count</th>\n",
       "      <td>1.677000e+03</td>\n",
       "      <td>1677</td>\n",
       "      <td>1677.000000</td>\n",
       "      <td>1677.000000</td>\n",
       "      <td>1677.000000</td>\n",
       "      <td>1677.000000</td>\n",
       "      <td>1677.000000</td>\n",
       "      <td>1677.000000</td>\n",
       "      <td>1677.000000</td>\n",
       "      <td>1677.000000</td>\n",
       "      <td>1677.000000</td>\n",
       "      <td>1677.000000</td>\n",
       "      <td>1.677000e+03</td>\n",
       "    </tr>\n",
       "    <tr>\n",
       "      <th>mean</th>\n",
       "      <td>5.199985e+07</td>\n",
       "      <td>2013-07-10 22:04:56.243291648</td>\n",
       "      <td>49.076923</td>\n",
       "      <td>2.341085</td>\n",
       "      <td>4.044126</td>\n",
       "      <td>2.671437</td>\n",
       "      <td>5.794872</td>\n",
       "      <td>5.335719</td>\n",
       "      <td>0.009541</td>\n",
       "      <td>0.262970</td>\n",
       "      <td>0.952892</td>\n",
       "      <td>55.024448</td>\n",
       "      <td>6.038265e+05</td>\n",
       "    </tr>\n",
       "    <tr>\n",
       "      <th>min</th>\n",
       "      <td>1.730000e+06</td>\n",
       "      <td>2012-07-30 00:00:00</td>\n",
       "      <td>0.000000</td>\n",
       "      <td>0.000000</td>\n",
       "      <td>0.000000</td>\n",
       "      <td>0.000000</td>\n",
       "      <td>0.000000</td>\n",
       "      <td>0.000000</td>\n",
       "      <td>0.000000</td>\n",
       "      <td>0.000000</td>\n",
       "      <td>0.000000</td>\n",
       "      <td>28.000000</td>\n",
       "      <td>5.000000e+03</td>\n",
       "    </tr>\n",
       "    <tr>\n",
       "      <th>25%</th>\n",
       "      <td>3.579000e+07</td>\n",
       "      <td>2013-01-17 00:00:00</td>\n",
       "      <td>24.000000</td>\n",
       "      <td>1.000000</td>\n",
       "      <td>2.000000</td>\n",
       "      <td>0.000000</td>\n",
       "      <td>3.000000</td>\n",
       "      <td>3.000000</td>\n",
       "      <td>0.000000</td>\n",
       "      <td>0.000000</td>\n",
       "      <td>0.000000</td>\n",
       "      <td>47.000000</td>\n",
       "      <td>6.900000e+04</td>\n",
       "    </tr>\n",
       "    <tr>\n",
       "      <th>50%</th>\n",
       "      <td>5.141200e+07</td>\n",
       "      <td>2013-07-11 00:00:00</td>\n",
       "      <td>50.000000</td>\n",
       "      <td>2.000000</td>\n",
       "      <td>4.000000</td>\n",
       "      <td>2.000000</td>\n",
       "      <td>5.000000</td>\n",
       "      <td>6.000000</td>\n",
       "      <td>0.000000</td>\n",
       "      <td>0.000000</td>\n",
       "      <td>1.000000</td>\n",
       "      <td>54.000000</td>\n",
       "      <td>3.930000e+05</td>\n",
       "    </tr>\n",
       "    <tr>\n",
       "      <th>75%</th>\n",
       "      <td>6.789300e+07</td>\n",
       "      <td>2013-12-29 00:00:00</td>\n",
       "      <td>74.000000</td>\n",
       "      <td>3.000000</td>\n",
       "      <td>6.000000</td>\n",
       "      <td>4.000000</td>\n",
       "      <td>8.000000</td>\n",
       "      <td>7.000000</td>\n",
       "      <td>0.000000</td>\n",
       "      <td>1.000000</td>\n",
       "      <td>1.000000</td>\n",
       "      <td>64.000000</td>\n",
       "      <td>1.034000e+06</td>\n",
       "    </tr>\n",
       "    <tr>\n",
       "      <th>max</th>\n",
       "      <td>1.623970e+08</td>\n",
       "      <td>2014-06-29 00:00:00</td>\n",
       "      <td>99.000000</td>\n",
       "      <td>15.000000</td>\n",
       "      <td>27.000000</td>\n",
       "      <td>28.000000</td>\n",
       "      <td>13.000000</td>\n",
       "      <td>20.000000</td>\n",
       "      <td>1.000000</td>\n",
       "      <td>1.000000</td>\n",
       "      <td>3.000000</td>\n",
       "      <td>83.000000</td>\n",
       "      <td>2.525000e+06</td>\n",
       "    </tr>\n",
       "    <tr>\n",
       "      <th>std</th>\n",
       "      <td>2.137447e+07</td>\n",
       "      <td>NaN</td>\n",
       "      <td>28.922053</td>\n",
       "      <td>1.967046</td>\n",
       "      <td>2.674320</td>\n",
       "      <td>2.973427</td>\n",
       "      <td>3.245470</td>\n",
       "      <td>2.449489</td>\n",
       "      <td>0.097239</td>\n",
       "      <td>0.440377</td>\n",
       "      <td>0.763611</td>\n",
       "      <td>11.650079</td>\n",
       "      <td>6.011542e+05</td>\n",
       "    </tr>\n",
       "  </tbody>\n",
       "</table>\n",
       "</div>"
      ],
      "text/plain": [
       "             Income                    Dt_Customer      Recency  \\\n",
       "count  1.677000e+03                           1677  1677.000000   \n",
       "mean   5.199985e+07  2013-07-10 22:04:56.243291648    49.076923   \n",
       "min    1.730000e+06            2012-07-30 00:00:00     0.000000   \n",
       "25%    3.579000e+07            2013-01-17 00:00:00    24.000000   \n",
       "50%    5.141200e+07            2013-07-11 00:00:00    50.000000   \n",
       "75%    6.789300e+07            2013-12-29 00:00:00    74.000000   \n",
       "max    1.623970e+08            2014-06-29 00:00:00    99.000000   \n",
       "std    2.137447e+07                            NaN    28.922053   \n",
       "\n",
       "       NumDealsPurchases  NumWebPurchases  NumCatalogPurchases  \\\n",
       "count        1677.000000      1677.000000          1677.000000   \n",
       "mean            2.341085         4.044126             2.671437   \n",
       "min             0.000000         0.000000             0.000000   \n",
       "25%             1.000000         2.000000             0.000000   \n",
       "50%             2.000000         4.000000             2.000000   \n",
       "75%             3.000000         6.000000             4.000000   \n",
       "max            15.000000        27.000000            28.000000   \n",
       "std             1.967046         2.674320             2.973427   \n",
       "\n",
       "       NumStorePurchases  NumWebVisitsMonth     Complain    Purchased  \\\n",
       "count        1677.000000        1677.000000  1677.000000  1677.000000   \n",
       "mean            5.794872           5.335719     0.009541     0.262970   \n",
       "min             0.000000           0.000000     0.000000     0.000000   \n",
       "25%             3.000000           3.000000     0.000000     0.000000   \n",
       "50%             5.000000           6.000000     0.000000     0.000000   \n",
       "75%             8.000000           7.000000     0.000000     1.000000   \n",
       "max            13.000000          20.000000     1.000000     1.000000   \n",
       "std             3.245470           2.449489     0.097239     0.440377   \n",
       "\n",
       "          Children          Age  Total_Spending  \n",
       "count  1677.000000  1677.000000    1.677000e+03  \n",
       "mean      0.952892    55.024448    6.038265e+05  \n",
       "min       0.000000    28.000000    5.000000e+03  \n",
       "25%       0.000000    47.000000    6.900000e+04  \n",
       "50%       1.000000    54.000000    3.930000e+05  \n",
       "75%       1.000000    64.000000    1.034000e+06  \n",
       "max       3.000000    83.000000    2.525000e+06  \n",
       "std       0.763611    11.650079    6.011542e+05  "
      ]
     },
     "execution_count": 34,
     "metadata": {},
     "output_type": "execute_result"
    }
   ],
   "source": [
    "data.describe()"
   ]
  },
  {
   "cell_type": "markdown",
   "id": "afaf60dd-8ade-48d7-aac5-afe55094252e",
   "metadata": {},
   "source": [
    "****Label Encoding****"
   ]
  },
  {
   "cell_type": "code",
   "execution_count": 35,
   "id": "9d575abb-9125-4af0-aa8d-68c14a3ba984",
   "metadata": {},
   "outputs": [
    {
     "name": "stdout",
     "output_type": "stream",
     "text": [
      "The numerical value 0 corresponds to: D3\n",
      "The numerical value 1 corresponds to: S1\n",
      "The numerical value 2 corresponds to: S2\n",
      "The numerical value 3 corresponds to: S3\n",
      "The numerical value 4 corresponds to: SMA\n"
     ]
    }
   ],
   "source": [
    "# Performing label encoding for Education\n",
    "label_encoder = LabelEncoder()\n",
    "data['Education'] = label_encoder.fit_transform(data['Education'])\n",
    "\n",
    "encoded_labels = label_encoder.classes_\n",
    "for label, encoded_value in enumerate(encoded_labels):\n",
    "    print(f\"The numerical value {label} corresponds to: {encoded_value}\")"
   ]
  },
  {
   "cell_type": "code",
   "execution_count": 36,
   "id": "e50d83e0-6353-4f48-9f81-28b6f37d78ea",
   "metadata": {},
   "outputs": [
    {
     "name": "stdout",
     "output_type": "stream",
     "text": [
      "The numerical value 0 corresponds to: In a Relationship\n",
      "The numerical value 1 corresponds to: Single\n"
     ]
    }
   ],
   "source": [
    "# Performing label encoding for Marital_Status\n",
    "label_encoder = LabelEncoder()\n",
    "data['Marital_Status'] =label_encoder.fit_transform(data['Marital_Status'])\n",
    "\n",
    "encoded_labels = label_encoder.classes_\n",
    "for label, encoded_value in enumerate(encoded_labels):\n",
    "    print(f\"The numerical value {label} corresponds to: {encoded_value}\")"
   ]
  },
  {
   "cell_type": "code",
   "execution_count": 37,
   "id": "1a90e3fa-582f-4311-9460-8d721ee6394d",
   "metadata": {},
   "outputs": [
    {
     "data": {
      "text/html": [
       "<div>\n",
       "<style scoped>\n",
       "    .dataframe tbody tr th:only-of-type {\n",
       "        vertical-align: middle;\n",
       "    }\n",
       "\n",
       "    .dataframe tbody tr th {\n",
       "        vertical-align: top;\n",
       "    }\n",
       "\n",
       "    .dataframe thead th {\n",
       "        text-align: right;\n",
       "    }\n",
       "</style>\n",
       "<table border=\"1\" class=\"dataframe\">\n",
       "  <thead>\n",
       "    <tr style=\"text-align: right;\">\n",
       "      <th></th>\n",
       "      <th>Education</th>\n",
       "      <th>Marital_Status</th>\n",
       "      <th>Income</th>\n",
       "      <th>Dt_Customer</th>\n",
       "      <th>Recency</th>\n",
       "      <th>NumDealsPurchases</th>\n",
       "      <th>NumWebPurchases</th>\n",
       "      <th>NumCatalogPurchases</th>\n",
       "      <th>NumStorePurchases</th>\n",
       "      <th>NumWebVisitsMonth</th>\n",
       "      <th>Complain</th>\n",
       "      <th>Purchased</th>\n",
       "      <th>Children</th>\n",
       "      <th>Age</th>\n",
       "      <th>Total_Spending</th>\n",
       "    </tr>\n",
       "  </thead>\n",
       "  <tbody>\n",
       "    <tr>\n",
       "      <th>0</th>\n",
       "      <td>1</td>\n",
       "      <td>1</td>\n",
       "      <td>58138000.0</td>\n",
       "      <td>2012-09-04</td>\n",
       "      <td>58</td>\n",
       "      <td>3</td>\n",
       "      <td>8</td>\n",
       "      <td>10</td>\n",
       "      <td>4</td>\n",
       "      <td>7</td>\n",
       "      <td>0</td>\n",
       "      <td>1</td>\n",
       "      <td>0</td>\n",
       "      <td>67</td>\n",
       "      <td>1617000</td>\n",
       "    </tr>\n",
       "    <tr>\n",
       "      <th>1</th>\n",
       "      <td>1</td>\n",
       "      <td>1</td>\n",
       "      <td>46344000.0</td>\n",
       "      <td>2014-03-08</td>\n",
       "      <td>38</td>\n",
       "      <td>2</td>\n",
       "      <td>1</td>\n",
       "      <td>1</td>\n",
       "      <td>2</td>\n",
       "      <td>5</td>\n",
       "      <td>0</td>\n",
       "      <td>0</td>\n",
       "      <td>2</td>\n",
       "      <td>70</td>\n",
       "      <td>27000</td>\n",
       "    </tr>\n",
       "    <tr>\n",
       "      <th>2</th>\n",
       "      <td>1</td>\n",
       "      <td>0</td>\n",
       "      <td>71613000.0</td>\n",
       "      <td>2013-08-21</td>\n",
       "      <td>26</td>\n",
       "      <td>1</td>\n",
       "      <td>8</td>\n",
       "      <td>2</td>\n",
       "      <td>10</td>\n",
       "      <td>4</td>\n",
       "      <td>0</td>\n",
       "      <td>0</td>\n",
       "      <td>0</td>\n",
       "      <td>59</td>\n",
       "      <td>776000</td>\n",
       "    </tr>\n",
       "    <tr>\n",
       "      <th>3</th>\n",
       "      <td>1</td>\n",
       "      <td>0</td>\n",
       "      <td>26646000.0</td>\n",
       "      <td>2014-02-10</td>\n",
       "      <td>26</td>\n",
       "      <td>2</td>\n",
       "      <td>2</td>\n",
       "      <td>0</td>\n",
       "      <td>4</td>\n",
       "      <td>6</td>\n",
       "      <td>0</td>\n",
       "      <td>0</td>\n",
       "      <td>1</td>\n",
       "      <td>40</td>\n",
       "      <td>53000</td>\n",
       "    </tr>\n",
       "    <tr>\n",
       "      <th>4</th>\n",
       "      <td>3</td>\n",
       "      <td>0</td>\n",
       "      <td>58293000.0</td>\n",
       "      <td>2014-01-19</td>\n",
       "      <td>94</td>\n",
       "      <td>5</td>\n",
       "      <td>5</td>\n",
       "      <td>3</td>\n",
       "      <td>6</td>\n",
       "      <td>5</td>\n",
       "      <td>0</td>\n",
       "      <td>0</td>\n",
       "      <td>1</td>\n",
       "      <td>43</td>\n",
       "      <td>422000</td>\n",
       "    </tr>\n",
       "  </tbody>\n",
       "</table>\n",
       "</div>"
      ],
      "text/plain": [
       "   Education  Marital_Status      Income Dt_Customer  Recency  \\\n",
       "0          1               1  58138000.0  2012-09-04       58   \n",
       "1          1               1  46344000.0  2014-03-08       38   \n",
       "2          1               0  71613000.0  2013-08-21       26   \n",
       "3          1               0  26646000.0  2014-02-10       26   \n",
       "4          3               0  58293000.0  2014-01-19       94   \n",
       "\n",
       "   NumDealsPurchases  NumWebPurchases  NumCatalogPurchases  NumStorePurchases  \\\n",
       "0                  3                8                   10                  4   \n",
       "1                  2                1                    1                  2   \n",
       "2                  1                8                    2                 10   \n",
       "3                  2                2                    0                  4   \n",
       "4                  5                5                    3                  6   \n",
       "\n",
       "   NumWebVisitsMonth  Complain  Purchased  Children  Age  Total_Spending  \n",
       "0                  7         0          1         0   67         1617000  \n",
       "1                  5         0          0         2   70           27000  \n",
       "2                  4         0          0         0   59          776000  \n",
       "3                  6         0          0         1   40           53000  \n",
       "4                  5         0          0         1   43          422000  "
      ]
     },
     "execution_count": 37,
     "metadata": {},
     "output_type": "execute_result"
    }
   ],
   "source": [
    "data.head()"
   ]
  },
  {
   "cell_type": "code",
   "execution_count": 40,
   "id": "55a91401-c425-4238-b806-1c252f01594c",
   "metadata": {},
   "outputs": [
    {
     "data": {
      "image/png": "[encoded data removed]",
      "text/plain": [
       "<Figure size 1200x1000 with 2 Axes>"
      ]
     },
     "metadata": {},
     "output_type": "display_data"
    }
   ],
   "source": [
    "ax = plt.subplots( figsize =( 12 , 10 ) )\n",
    "foo = sns.heatmap(data.corr(), vmax=1.0, square=True, annot=True)\n",
    "plt.savefig('Correlation heatmap.png')"
   ]
  },
  {
   "cell_type": "markdown",
   "id": "fe0c923d-2fe5-4ad1-b473-4c1abd52544c",
   "metadata": {},
   "source": [
    "***Feature Scaling And Dimensionality Reduction***"
   ]
  },
  {
   "cell_type": "code",
   "execution_count": 38,
   "id": "989567aa-846f-4fa7-9b4a-4253a3b126f2",
   "metadata": {},
   "outputs": [
    {
     "data": {
      "text/plain": [
       "Index(['Education', 'Marital_Status', 'Income', 'Dt_Customer', 'Recency',\n",
       "       'NumDealsPurchases', 'NumWebPurchases', 'NumCatalogPurchases',\n",
       "       'NumStorePurchases', 'NumWebVisitsMonth', 'Complain', 'Purchased',\n",
       "       'Children', 'Age', 'Total_Spending'],\n",
       "      dtype='object')"
      ]
     },
     "execution_count": 38,
     "metadata": {},
     "output_type": "execute_result"
    }
   ],
   "source": [
    "data.columns"
   ]
  },
  {
   "cell_type": "code",
   "execution_count": 39,
   "id": "26ead40f-d91a-45d3-b609-020d3cfad76b",
   "metadata": {},
   "outputs": [],
   "source": [
    "segment = data.drop(['Education', 'Marital_Status', 'Dt_Customer', 'NumWebPurchases', 'NumCatalogPurchases',\n",
    "       'NumStorePurchases', 'NumWebVisitsMonth', 'Complain', 'Purchased','Children'], axis=1)"
   ]
  },
  {
   "cell_type": "code",
   "execution_count": 40,
   "id": "6d6cc782-6565-4edb-8a0c-3dd1844bb888",
   "metadata": {},
   "outputs": [
    {
     "data": {
      "text/html": [
       "<div>\n",
       "<style scoped>\n",
       "    .dataframe tbody tr th:only-of-type {\n",
       "        vertical-align: middle;\n",
       "    }\n",
       "\n",
       "    .dataframe tbody tr th {\n",
       "        vertical-align: top;\n",
       "    }\n",
       "\n",
       "    .dataframe thead th {\n",
       "        text-align: right;\n",
       "    }\n",
       "</style>\n",
       "<table border=\"1\" class=\"dataframe\">\n",
       "  <thead>\n",
       "    <tr style=\"text-align: right;\">\n",
       "      <th></th>\n",
       "      <th>Income</th>\n",
       "      <th>Recency</th>\n",
       "      <th>NumDealsPurchases</th>\n",
       "      <th>Age</th>\n",
       "      <th>Total_Spending</th>\n",
       "    </tr>\n",
       "  </thead>\n",
       "  <tbody>\n",
       "    <tr>\n",
       "      <th>0</th>\n",
       "      <td>58138000.0</td>\n",
       "      <td>58</td>\n",
       "      <td>3</td>\n",
       "      <td>67</td>\n",
       "      <td>1617000</td>\n",
       "    </tr>\n",
       "    <tr>\n",
       "      <th>1</th>\n",
       "      <td>46344000.0</td>\n",
       "      <td>38</td>\n",
       "      <td>2</td>\n",
       "      <td>70</td>\n",
       "      <td>27000</td>\n",
       "    </tr>\n",
       "    <tr>\n",
       "      <th>2</th>\n",
       "      <td>71613000.0</td>\n",
       "      <td>26</td>\n",
       "      <td>1</td>\n",
       "      <td>59</td>\n",
       "      <td>776000</td>\n",
       "    </tr>\n",
       "  </tbody>\n",
       "</table>\n",
       "</div>"
      ],
      "text/plain": [
       "       Income  Recency  NumDealsPurchases  Age  Total_Spending\n",
       "0  58138000.0       58                  3   67         1617000\n",
       "1  46344000.0       38                  2   70           27000\n",
       "2  71613000.0       26                  1   59          776000"
      ]
     },
     "execution_count": 40,
     "metadata": {},
     "output_type": "execute_result"
    }
   ],
   "source": [
    "segment.head(3)"
   ]
  },
  {
   "cell_type": "code",
   "execution_count": 41,
   "id": "ce6a6321-0dfd-4764-99fa-803995708ac0",
   "metadata": {},
   "outputs": [],
   "source": [
    "scaler = StandardScaler()\n",
    "scaled_features = scaler.fit_transform(segment)"
   ]
  },
  {
   "cell_type": "code",
   "execution_count": 42,
   "id": "3b26afd6-9a57-4bf2-a80f-b0621ebb1662",
   "metadata": {},
   "outputs": [],
   "source": [
    "\n",
    "import pandas as pd\n",
    "from sklearn.preprocessing import LabelEncoder, StandardScaler\n",
    "from sklearn.decomposition import PCA\n",
    "\n",
    "\n",
    "\n",
    "#  Perform feature scaling on numerical columns 'Age' and 'Income'\n",
    "scaler = StandardScaler()\n",
    "data[['Age', 'Income']] = scaler.fit_transform(data[['Age', 'Income']])\n",
    "\n"
   ]
  },
  {
   "cell_type": "code",
   "execution_count": 43,
   "id": "3a0d465e-4086-4573-8d03-d21a20cc9eb3",
   "metadata": {},
   "outputs": [],
   "source": [
    "# Apply PCA\n",
    "pca = PCA(n_components=2)  # Number of principal components you want to keep\n",
    "principal_components = pca.fit_transform(segment)"
   ]
  },
  {
   "cell_type": "code",
   "execution_count": 44,
   "id": "5764af55-4aa5-4444-8f5a-e73b6d3c7d68",
   "metadata": {},
   "outputs": [
    {
     "name": "stdout",
     "output_type": "stream",
     "text": [
      "\n",
      "Principal Components:\n",
      "      Principal Component 1  Principal Component 2\n",
      "0              6.159192e+06         -876241.607013\n",
      "1             -5.667289e+06          450742.465640\n",
      "2              1.961212e+07          264603.051309\n",
      "3             -2.535983e+07          -13874.286978\n",
      "4              6.287544e+06          321913.540160\n",
      "...                     ...                    ...\n",
      "1672          -3.181058e+07         -186558.613599\n",
      "1673          -2.442880e+07         -184185.051059\n",
      "1674          -3.614153e+07         -237010.118561\n",
      "1675          -2.459687e+06          145091.615085\n",
      "1676          -1.877906e+07          114694.187564\n",
      "\n",
      "[1677 rows x 2 columns]\n"
     ]
    }
   ],
   "source": [
    "# Create a DataFrame with the principal components\n",
    "principal_df = pd.DataFrame(data=principal_components, columns=['Principal Component 1', 'Principal Component 2'])\n",
    "\n",
    "# Output the principal components\n",
    "print(\"\\nPrincipal Components:\")\n",
    "print(principal_df)"
   ]
  },
  {
   "cell_type": "code",
   "execution_count": 45,
   "id": "de7d0f5d-3704-4986-ad88-02eb9d6b4695",
   "metadata": {},
   "outputs": [
    {
     "name": "stdout",
     "output_type": "stream",
     "text": [
      "\n",
      "Explained Variance:\n",
      "Principal Component 1: 457094706377841.6\n",
      "Principal Component 2: 134808791324.28964\n",
      "\n",
      "Explained Variance Ratio:\n",
      "Principal Component 1: 99.97%\n",
      "Principal Component 2: 0.03%\n"
     ]
    }
   ],
   "source": [
    "# Explained variance and explained variance ratio\n",
    "explained_variance = pca.explained_variance_\n",
    "explained_variance_ratio = pca.explained_variance_ratio_\n",
    "\n",
    "# Output the explained variance and explained variance ratio\n",
    "print(\"\\nExplained Variance:\")\n",
    "for i, variance in enumerate(explained_variance):\n",
    "    print(f\"Principal Component {i+1}: {variance}\")\n",
    "\n",
    "print(\"\\nExplained Variance Ratio:\")\n",
    "for i, variance_ratio in enumerate(explained_variance_ratio):\n",
    "    print(f\"Principal Component {i+1}: {variance_ratio * 100:.2f}%\")"
   ]
  },
  {
   "cell_type": "code",
   "execution_count": 46,
   "id": "cd914d3a-b62d-4437-a5ea-8267e9672a9e",
   "metadata": {},
   "outputs": [
    {
     "name": "stdout",
     "output_type": "stream",
     "text": [
      "\n",
      "Final DataFrame with Principal Components:\n",
      "      Education  Marital_Status    Income Dt_Customer  Recency  \\\n",
      "0           1.0             1.0  0.287258  2012-09-04     58.0   \n",
      "1           1.0             1.0 -0.264686  2014-03-08     38.0   \n",
      "2           1.0             0.0  0.917871  2013-08-21     26.0   \n",
      "3           1.0             0.0 -1.186528  2014-02-10     26.0   \n",
      "4           3.0             0.0  0.294512  2014-01-19     94.0   \n",
      "...         ...             ...       ...         ...      ...   \n",
      "1678        3.0             0.0 -0.114931  2013-02-12      0.0   \n",
      "1679        1.0             0.0 -0.878499  2014-01-23     28.0   \n",
      "192         NaN             NaN       NaN         NaT      NaN   \n",
      "239         NaN             NaN       NaN         NaT      NaN   \n",
      "339         NaN             NaN       NaN         NaT      NaN   \n",
      "\n",
      "      NumDealsPurchases  NumWebPurchases  NumCatalogPurchases  \\\n",
      "0                   3.0              8.0                 10.0   \n",
      "1                   2.0              1.0                  1.0   \n",
      "2                   1.0              8.0                  2.0   \n",
      "3                   2.0              2.0                  0.0   \n",
      "4                   5.0              5.0                  3.0   \n",
      "...                 ...              ...                  ...   \n",
      "1678                2.0              5.0                  1.0   \n",
      "1679                1.0              2.0                  0.0   \n",
      "192                 NaN              NaN                  NaN   \n",
      "239                 NaN              NaN                  NaN   \n",
      "339                 NaN              NaN                  NaN   \n",
      "\n",
      "      NumStorePurchases  NumWebVisitsMonth  Complain  Purchased  Children  \\\n",
      "0                   4.0                7.0       0.0        1.0       0.0   \n",
      "1                   2.0                5.0       0.0        0.0       2.0   \n",
      "2                  10.0                4.0       0.0        0.0       0.0   \n",
      "3                   4.0                6.0       0.0        0.0       1.0   \n",
      "4                   6.0                5.0       0.0        0.0       1.0   \n",
      "...                 ...                ...       ...        ...       ...   \n",
      "1678                8.0                7.0       0.0        0.0       1.0   \n",
      "1679                3.0                7.0       0.0        0.0       1.0   \n",
      "192                 NaN                NaN       NaN        NaN       NaN   \n",
      "239                 NaN                NaN       NaN        NaN       NaN   \n",
      "339                 NaN                NaN       NaN        NaN       NaN   \n",
      "\n",
      "           Age  Total_Spending  Principal Component 1  Principal Component 2  \n",
      "0     1.028244       1617000.0           6.159192e+06         -876241.607013  \n",
      "1     1.285830         27000.0          -5.667289e+06          450742.465640  \n",
      "2     0.341349        776000.0           1.961212e+07          264603.051309  \n",
      "3    -1.290028         53000.0          -2.535983e+07          -13874.286978  \n",
      "4    -1.032442        422000.0           6.287544e+06          321913.540160  \n",
      "...        ...             ...                    ...                    ...  \n",
      "1678 -0.603133        404000.0                    NaN                    NaN  \n",
      "1679 -0.946580         71000.0                    NaN                    NaN  \n",
      "192        NaN             NaN          -1.313601e+07          220376.338834  \n",
      "239        NaN             NaN           1.296696e+07         -116461.905947  \n",
      "339        NaN             NaN           3.224231e+06         -506503.870547  \n",
      "\n",
      "[1680 rows x 17 columns]\n"
     ]
    }
   ],
   "source": [
    "# Optionally, concatenate the principal components with original data for reference\n",
    "final_df = pd.concat([data, principal_df], axis=1)\n",
    "print(\"\\nFinal DataFrame with Principal Components:\")\n",
    "print(final_df)"
   ]
  },
  {
   "cell_type": "code",
   "execution_count": 47,
   "id": "5eb8da12-72e8-4b40-b014-c18809df28a0",
   "metadata": {},
   "outputs": [
    {
     "data": {
      "text/html": [
       "<style>#sk-container-id-1 {\n",
       "  /* Definition of color scheme common for light and dark mode */\n",
       "  --sklearn-color-text: black;\n",
       "  --sklearn-color-line: gray;\n",
       "  /* Definition of color scheme for unfitted estimators */\n",
       "  --sklearn-color-unfitted-level-0: #fff5e6;\n",
       "  --sklearn-color-unfitted-level-1: #f6e4d2;\n",
       "  --sklearn-color-unfitted-level-2: #ffe0b3;\n",
       "  --sklearn-color-unfitted-level-3: chocolate;\n",
       "  /* Definition of color scheme for fitted estimators */\n",
       "  --sklearn-color-fitted-level-0: #f0f8ff;\n",
       "  --sklearn-color-fitted-level-1: #d4ebff;\n",
       "  --sklearn-color-fitted-level-2: #b3dbfd;\n",
       "  --sklearn-color-fitted-level-3: cornflowerblue;\n",
       "\n",
       "  /* Specific color for light theme */\n",
       "  --sklearn-color-text-on-default-background: var(--sg-text-color, var(--theme-code-foreground, var(--jp-content-font-color1, black)));\n",
       "  --sklearn-color-background: var(--sg-background-color, var(--theme-background, var(--jp-layout-color0, white)));\n",
       "  --sklearn-color-border-box: var(--sg-text-color, var(--theme-code-foreground, var(--jp-content-font-color1, black)));\n",
       "  --sklearn-color-icon: #696969;\n",
       "\n",
       "  @media (prefers-color-scheme: dark) {\n",
       "    /* Redefinition of color scheme for dark theme */\n",
       "    --sklearn-color-text-on-default-background: var(--sg-text-color, var(--theme-code-foreground, var(--jp-content-font-color1, white)));\n",
       "    --sklearn-color-background: var(--sg-background-color, var(--theme-background, var(--jp-layout-color0, #111)));\n",
       "    --sklearn-color-border-box: var(--sg-text-color, var(--theme-code-foreground, var(--jp-content-font-color1, white)));\n",
       "    --sklearn-color-icon: #878787;\n",
       "  }\n",
       "}\n",
       "\n",
       "#sk-container-id-1 {\n",
       "  color: var(--sklearn-color-text);\n",
       "}\n",
       "\n",
       "#sk-container-id-1 pre {\n",
       "  padding: 0;\n",
       "}\n",
       "\n",
       "#sk-container-id-1 input.sk-hidden--visually {\n",
       "  border: 0;\n",
       "  clip: rect(1px 1px 1px 1px);\n",
       "  clip: rect(1px, 1px, 1px, 1px);\n",
       "  height: 1px;\n",
       "  margin: -1px;\n",
       "  overflow: hidden;\n",
       "  padding: 0;\n",
       "  position: absolute;\n",
       "  width: 1px;\n",
       "}\n",
       "\n",
       "#sk-container-id-1 div.sk-dashed-wrapped {\n",
       "  border: 1px dashed var(--sklearn-color-line);\n",
       "  margin: 0 0.4em 0.5em 0.4em;\n",
       "  box-sizing: border-box;\n",
       "  padding-bottom: 0.4em;\n",
       "  background-color: var(--sklearn-color-background);\n",
       "}\n",
       "\n",
       "#sk-container-id-1 div.sk-container {\n",
       "  /* jupyter's `normalize.less` sets `[hidden] { display: none; }`\n",
       "     but bootstrap.min.css set `[hidden] { display: none !important; }`\n",
       "     so we also need the `!important` here to be able to override the\n",
       "     default hidden behavior on the sphinx rendered scikit-learn.org.\n",
       "     See: https://github.com/scikit-learn/scikit-learn/issues/21755 */\n",
       "  display: inline-block !important;\n",
       "  position: relative;\n",
       "}\n",
       "\n",
       "#sk-container-id-1 div.sk-text-repr-fallback {\n",
       "  display: none;\n",
       "}\n",
       "\n",
       "div.sk-parallel-item,\n",
       "div.sk-serial,\n",
       "div.sk-item {\n",
       "  /* draw centered vertical line to link estimators */\n",
       "  background-image: linear-gradient(var(--sklearn-color-text-on-default-background), var(--sklearn-color-text-on-default-background));\n",
       "  background-size: 2px 100%;\n",
       "  background-repeat: no-repeat;\n",
       "  background-position: center center;\n",
       "}\n",
       "\n",
       "/* Parallel-specific style estimator block */\n",
       "\n",
       "#sk-container-id-1 div.sk-parallel-item::after {\n",
       "  content: \"\";\n",
       "  width: 100%;\n",
       "  border-bottom: 2px solid var(--sklearn-color-text-on-default-background);\n",
       "  flex-grow: 1;\n",
       "}\n",
       "\n",
       "#sk-container-id-1 div.sk-parallel {\n",
       "  display: flex;\n",
       "  align-items: stretch;\n",
       "  justify-content: center;\n",
       "  background-color: var(--sklearn-color-background);\n",
       "  position: relative;\n",
       "}\n",
       "\n",
       "#sk-container-id-1 div.sk-parallel-item {\n",
       "  display: flex;\n",
       "  flex-direction: column;\n",
       "}\n",
       "\n",
       "#sk-container-id-1 div.sk-parallel-item:first-child::after {\n",
       "  align-self: flex-end;\n",
       "  width: 50%;\n",
       "}\n",
       "\n",
       "#sk-container-id-1 div.sk-parallel-item:last-child::after {\n",
       "  align-self: flex-start;\n",
       "  width: 50%;\n",
       "}\n",
       "\n",
       "#sk-container-id-1 div.sk-parallel-item:only-child::after {\n",
       "  width: 0;\n",
       "}\n",
       "\n",
       "/* Serial-specific style estimator block */\n",
       "\n",
       "#sk-container-id-1 div.sk-serial {\n",
       "  display: flex;\n",
       "  flex-direction: column;\n",
       "  align-items: center;\n",
       "  background-color: var(--sklearn-color-background);\n",
       "  padding-right: 1em;\n",
       "  padding-left: 1em;\n",
       "}\n",
       "\n",
       "\n",
       "/* Toggleable style: style used for estimator/Pipeline/ColumnTransformer box that is\n",
       "clickable and can be expanded/collapsed.\n",
       "- Pipeline and ColumnTransformer use this feature and define the default style\n",
       "- Estimators will overwrite some part of the style using the `sk-estimator` class\n",
       "*/\n",
       "\n",
       "/* Pipeline and ColumnTransformer style (default) */\n",
       "\n",
       "#sk-container-id-1 div.sk-toggleable {\n",
       "  /* Default theme specific background. It is overwritten whether we have a\n",
       "  specific estimator or a Pipeline/ColumnTransformer */\n",
       "  background-color: var(--sklearn-color-background);\n",
       "}\n",
       "\n",
       "/* Toggleable label */\n",
       "#sk-container-id-1 label.sk-toggleable__label {\n",
       "  cursor: pointer;\n",
       "  display: block;\n",
       "  width: 100%;\n",
       "  margin-bottom: 0;\n",
       "  padding: 0.5em;\n",
       "  box-sizing: border-box;\n",
       "  text-align: center;\n",
       "}\n",
       "\n",
       "#sk-container-id-1 label.sk-toggleable__label-arrow:before {\n",
       "  /* Arrow on the left of the label */\n",
       "  content: \"▸\";\n",
       "  float: left;\n",
       "  margin-right: 0.25em;\n",
       "  color: var(--sklearn-color-icon);\n",
       "}\n",
       "\n",
       "#sk-container-id-1 label.sk-toggleable__label-arrow:hover:before {\n",
       "  color: var(--sklearn-color-text);\n",
       "}\n",
       "\n",
       "/* Toggleable content - dropdown */\n",
       "\n",
       "#sk-container-id-1 div.sk-toggleable__content {\n",
       "  max-height: 0;\n",
       "  max-width: 0;\n",
       "  overflow: hidden;\n",
       "  text-align: left;\n",
       "  /* unfitted */\n",
       "  background-color: var(--sklearn-color-unfitted-level-0);\n",
       "}\n",
       "\n",
       "#sk-container-id-1 div.sk-toggleable__content.fitted {\n",
       "  /* fitted */\n",
       "  background-color: var(--sklearn-color-fitted-level-0);\n",
       "}\n",
       "\n",
       "#sk-container-id-1 div.sk-toggleable__content pre {\n",
       "  margin: 0.2em;\n",
       "  border-radius: 0.25em;\n",
       "  color: var(--sklearn-color-text);\n",
       "  /* unfitted */\n",
       "  background-color: var(--sklearn-color-unfitted-level-0);\n",
       "}\n",
       "\n",
       "#sk-container-id-1 div.sk-toggleable__content.fitted pre {\n",
       "  /* unfitted */\n",
       "  background-color: var(--sklearn-color-fitted-level-0);\n",
       "}\n",
       "\n",
       "#sk-container-id-1 input.sk-toggleable__control:checked~div.sk-toggleable__content {\n",
       "  /* Expand drop-down */\n",
       "  max-height: 200px;\n",
       "  max-width: 100%;\n",
       "  overflow: auto;\n",
       "}\n",
       "\n",
       "#sk-container-id-1 input.sk-toggleable__control:checked~label.sk-toggleable__label-arrow:before {\n",
       "  content: \"▾\";\n",
       "}\n",
       "\n",
       "/* Pipeline/ColumnTransformer-specific style */\n",
       "\n",
       "#sk-container-id-1 div.sk-label input.sk-toggleable__control:checked~label.sk-toggleable__label {\n",
       "  color: var(--sklearn-color-text);\n",
       "  background-color: var(--sklearn-color-unfitted-level-2);\n",
       "}\n",
       "\n",
       "#sk-container-id-1 div.sk-label.fitted input.sk-toggleable__control:checked~label.sk-toggleable__label {\n",
       "  background-color: var(--sklearn-color-fitted-level-2);\n",
       "}\n",
       "\n",
       "/* Estimator-specific style */\n",
       "\n",
       "/* Colorize estimator box */\n",
       "#sk-container-id-1 div.sk-estimator input.sk-toggleable__control:checked~label.sk-toggleable__label {\n",
       "  /* unfitted */\n",
       "  background-color: var(--sklearn-color-unfitted-level-2);\n",
       "}\n",
       "\n",
       "#sk-container-id-1 div.sk-estimator.fitted input.sk-toggleable__control:checked~label.sk-toggleable__label {\n",
       "  /* fitted */\n",
       "  background-color: var(--sklearn-color-fitted-level-2);\n",
       "}\n",
       "\n",
       "#sk-container-id-1 div.sk-label label.sk-toggleable__label,\n",
       "#sk-container-id-1 div.sk-label label {\n",
       "  /* The background is the default theme color */\n",
       "  color: var(--sklearn-color-text-on-default-background);\n",
       "}\n",
       "\n",
       "/* On hover, darken the color of the background */\n",
       "#sk-container-id-1 div.sk-label:hover label.sk-toggleable__label {\n",
       "  color: var(--sklearn-color-text);\n",
       "  background-color: var(--sklearn-color-unfitted-level-2);\n",
       "}\n",
       "\n",
       "/* Label box, darken color on hover, fitted */\n",
       "#sk-container-id-1 div.sk-label.fitted:hover label.sk-toggleable__label.fitted {\n",
       "  color: var(--sklearn-color-text);\n",
       "  background-color: var(--sklearn-color-fitted-level-2);\n",
       "}\n",
       "\n",
       "/* Estimator label */\n",
       "\n",
       "#sk-container-id-1 div.sk-label label {\n",
       "  font-family: monospace;\n",
       "  font-weight: bold;\n",
       "  display: inline-block;\n",
       "  line-height: 1.2em;\n",
       "}\n",
       "\n",
       "#sk-container-id-1 div.sk-label-container {\n",
       "  text-align: center;\n",
       "}\n",
       "\n",
       "/* Estimator-specific */\n",
       "#sk-container-id-1 div.sk-estimator {\n",
       "  font-family: monospace;\n",
       "  border: 1px dotted var(--sklearn-color-border-box);\n",
       "  border-radius: 0.25em;\n",
       "  box-sizing: border-box;\n",
       "  margin-bottom: 0.5em;\n",
       "  /* unfitted */\n",
       "  background-color: var(--sklearn-color-unfitted-level-0);\n",
       "}\n",
       "\n",
       "#sk-container-id-1 div.sk-estimator.fitted {\n",
       "  /* fitted */\n",
       "  background-color: var(--sklearn-color-fitted-level-0);\n",
       "}\n",
       "\n",
       "/* on hover */\n",
       "#sk-container-id-1 div.sk-estimator:hover {\n",
       "  /* unfitted */\n",
       "  background-color: var(--sklearn-color-unfitted-level-2);\n",
       "}\n",
       "\n",
       "#sk-container-id-1 div.sk-estimator.fitted:hover {\n",
       "  /* fitted */\n",
       "  background-color: var(--sklearn-color-fitted-level-2);\n",
       "}\n",
       "\n",
       "/* Specification for estimator info (e.g. \"i\" and \"?\") */\n",
       "\n",
       "/* Common style for \"i\" and \"?\" */\n",
       "\n",
       ".sk-estimator-doc-link,\n",
       "a:link.sk-estimator-doc-link,\n",
       "a:visited.sk-estimator-doc-link {\n",
       "  float: right;\n",
       "  font-size: smaller;\n",
       "  line-height: 1em;\n",
       "  font-family: monospace;\n",
       "  background-color: var(--sklearn-color-background);\n",
       "  border-radius: 1em;\n",
       "  height: 1em;\n",
       "  width: 1em;\n",
       "  text-decoration: none !important;\n",
       "  margin-left: 1ex;\n",
       "  /* unfitted */\n",
       "  border: var(--sklearn-color-unfitted-level-1) 1pt solid;\n",
       "  color: var(--sklearn-color-unfitted-level-1);\n",
       "}\n",
       "\n",
       ".sk-estimator-doc-link.fitted,\n",
       "a:link.sk-estimator-doc-link.fitted,\n",
       "a:visited.sk-estimator-doc-link.fitted {\n",
       "  /* fitted */\n",
       "  border: var(--sklearn-color-fitted-level-1) 1pt solid;\n",
       "  color: var(--sklearn-color-fitted-level-1);\n",
       "}\n",
       "\n",
       "/* On hover */\n",
       "div.sk-estimator:hover .sk-estimator-doc-link:hover,\n",
       ".sk-estimator-doc-link:hover,\n",
       "div.sk-label-container:hover .sk-estimator-doc-link:hover,\n",
       ".sk-estimator-doc-link:hover {\n",
       "  /* unfitted */\n",
       "  background-color: var(--sklearn-color-unfitted-level-3);\n",
       "  color: var(--sklearn-color-background);\n",
       "  text-decoration: none;\n",
       "}\n",
       "\n",
       "div.sk-estimator.fitted:hover .sk-estimator-doc-link.fitted:hover,\n",
       ".sk-estimator-doc-link.fitted:hover,\n",
       "div.sk-label-container:hover .sk-estimator-doc-link.fitted:hover,\n",
       ".sk-estimator-doc-link.fitted:hover {\n",
       "  /* fitted */\n",
       "  background-color: var(--sklearn-color-fitted-level-3);\n",
       "  color: var(--sklearn-color-background);\n",
       "  text-decoration: none;\n",
       "}\n",
       "\n",
       "/* Span, style for the box shown on hovering the info icon */\n",
       ".sk-estimator-doc-link span {\n",
       "  display: none;\n",
       "  z-index: 9999;\n",
       "  position: relative;\n",
       "  font-weight: normal;\n",
       "  right: .2ex;\n",
       "  padding: .5ex;\n",
       "  margin: .5ex;\n",
       "  width: min-content;\n",
       "  min-width: 20ex;\n",
       "  max-width: 50ex;\n",
       "  color: var(--sklearn-color-text);\n",
       "  box-shadow: 2pt 2pt 4pt #999;\n",
       "  /* unfitted */\n",
       "  background: var(--sklearn-color-unfitted-level-0);\n",
       "  border: .5pt solid var(--sklearn-color-unfitted-level-3);\n",
       "}\n",
       "\n",
       ".sk-estimator-doc-link.fitted span {\n",
       "  /* fitted */\n",
       "  background: var(--sklearn-color-fitted-level-0);\n",
       "  border: var(--sklearn-color-fitted-level-3);\n",
       "}\n",
       "\n",
       ".sk-estimator-doc-link:hover span {\n",
       "  display: block;\n",
       "}\n",
       "\n",
       "/* \"?\"-specific style due to the `<a>` HTML tag */\n",
       "\n",
       "#sk-container-id-1 a.estimator_doc_link {\n",
       "  float: right;\n",
       "  font-size: 1rem;\n",
       "  line-height: 1em;\n",
       "  font-family: monospace;\n",
       "  background-color: var(--sklearn-color-background);\n",
       "  border-radius: 1rem;\n",
       "  height: 1rem;\n",
       "  width: 1rem;\n",
       "  text-decoration: none;\n",
       "  /* unfitted */\n",
       "  color: var(--sklearn-color-unfitted-level-1);\n",
       "  border: var(--sklearn-color-unfitted-level-1) 1pt solid;\n",
       "}\n",
       "\n",
       "#sk-container-id-1 a.estimator_doc_link.fitted {\n",
       "  /* fitted */\n",
       "  border: var(--sklearn-color-fitted-level-1) 1pt solid;\n",
       "  color: var(--sklearn-color-fitted-level-1);\n",
       "}\n",
       "\n",
       "/* On hover */\n",
       "#sk-container-id-1 a.estimator_doc_link:hover {\n",
       "  /* unfitted */\n",
       "  background-color: var(--sklearn-color-unfitted-level-3);\n",
       "  color: var(--sklearn-color-background);\n",
       "  text-decoration: none;\n",
       "}\n",
       "\n",
       "#sk-container-id-1 a.estimator_doc_link.fitted:hover {\n",
       "  /* fitted */\n",
       "  background-color: var(--sklearn-color-fitted-level-3);\n",
       "}\n",
       "</style><div id=\"sk-container-id-1\" class=\"sk-top-container\"><div class=\"sk-text-repr-fallback\"><pre>KMeans()</pre><b>In a Jupyter environment, please rerun this cell to show the HTML representation or trust the notebook. <br />On GitHub, the HTML representation is unable to render, please try loading this page with nbviewer.org.</b></div><div class=\"sk-container\" hidden><div class=\"sk-item\"><div class=\"sk-estimator fitted sk-toggleable\"><input class=\"sk-toggleable__control sk-hidden--visually\" id=\"sk-estimator-id-1\" type=\"checkbox\" checked><label for=\"sk-estimator-id-1\" class=\"sk-toggleable__label fitted sk-toggleable__label-arrow fitted\">&nbsp;&nbsp;KMeans<a class=\"sk-estimator-doc-link fitted\" rel=\"noreferrer\" target=\"_blank\" href=\"https://scikit-learn.org/1.4/modules/generated/sklearn.cluster.KMeans.html\">?<span>Documentation for KMeans</span></a><span class=\"sk-estimator-doc-link fitted\">i<span>Fitted</span></span></label><div class=\"sk-toggleable__content fitted\"><pre>KMeans()</pre></div> </div></div></div></div>"
      ],
      "text/plain": [
       "KMeans()"
      ]
     },
     "execution_count": 47,
     "metadata": {},
     "output_type": "execute_result"
    }
   ],
   "source": [
    "kmeans = KMeans()\n",
    "kmeans.fit(scaled_features)"
   ]
  },
  {
   "cell_type": "code",
   "execution_count": 48,
   "id": "6defc07a-6227-4472-a865-5ec71967302b",
   "metadata": {},
   "outputs": [],
   "source": [
    "cluster_range = range(2,21)\n",
    "inertia_range = []\n",
    "silhoute_range = []\n",
    "for i in cluster_range:\n",
    "  kmeans_i = KMeans(n_clusters=i, init='random')\n",
    "  kmeans_i.fit(scaled_features)\n",
    "  inertia_range.append(kmeans_i.inertia_)\n",
    "  silhoute_range.append(metrics.silhouette_score(scaled_features, kmeans_i.labels_))"
   ]
  },
  {
   "cell_type": "code",
   "execution_count": 49,
   "id": "6b63d99c-ac3d-4296-ac74-b77e9ee7dc80",
   "metadata": {},
   "outputs": [
    {
     "data": {
      "image/png": "[encoded data removed]",
      "text/plain": [
       "<Figure size 640x480 with 1 Axes>"
      ]
     },
     "metadata": {},
     "output_type": "display_data"
    }
   ],
   "source": [
    "plt.plot(cluster_range, inertia_range, marker='o')\n",
    "plt.savefig('Elbow graph.png')"
   ]
  },
  {
   "cell_type": "code",
   "execution_count": 50,
   "id": "b8e48818-5727-4ca1-b03a-538a5d77346b",
   "metadata": {},
   "outputs": [
    {
     "name": "stdout",
     "output_type": "stream",
     "text": [
      "[2, 3, 4, 5, 6, 7, 8, 9, 10, 11, 12, 13, 14, 15, 16, 17, 18, 19, 20]\n",
      "\n",
      "[6037.257651200414, 5029.829477307139, 4333.671467894302, 3814.1355505256406, 3426.7155234880543, 3146.786143893133, 2928.875590823589, 2723.141755535913, 2570.4020089225355, 2456.889986194401, 2358.5353553163927, 2273.7526965766497, 2204.804572544963, 2124.474851920504, 2059.7678122081543, 2011.5884746886895, 1947.2413274906523, 1881.7231176428736, 1848.7973679305373]\n",
      "\n",
      "[0.27847728305448055, 0.2800534508903717, 0.24151048676853987, 0.23541980860339295, 0.23358550494740077, 0.22878762808692188, 0.21960640055931968, 0.22689999460582577, 0.2216897607014, 0.2228331918589829, 0.2181197811196682, 0.22069124683474103, 0.20535378495161036, 0.20161961725651492, 0.20330518564313285, 0.19742063396959073, 0.19868375019782317, 0.1988903300141412, 0.20347500419516187]\n"
     ]
    }
   ],
   "source": [
    "print(list(cluster_range))\n",
    "print()\n",
    "print(list(inertia_range))\n",
    "print()\n",
    "print(list(silhoute_range))"
   ]
  },
  {
   "cell_type": "code",
   "execution_count": 51,
   "id": "93a0a235-68d8-4f76-9a4f-7bda63e2ebb5",
   "metadata": {},
   "outputs": [
    {
     "data": {
      "text/plain": [
       "array([2, 0, 2, ..., 0, 0, 0])"
      ]
     },
     "execution_count": 51,
     "metadata": {},
     "output_type": "execute_result"
    }
   ],
   "source": [
    "kmeans = KMeans(n_clusters=3)\n",
    "kmeans.fit(scaled_features)\n",
    "kmeans.labels_"
   ]
  },
  {
   "cell_type": "code",
   "execution_count": 52,
   "id": "db586040-9ac4-4b91-80cf-3043c1d3476d",
   "metadata": {},
   "outputs": [
    {
     "data": {
      "image/png": "[encoded data removed]",
      "text/plain": [
       "<Figure size 800x600 with 1 Axes>"
      ]
     },
     "metadata": {},
     "output_type": "display_data"
    },
    {
     "data": {
      "text/plain": [
       "<Figure size 640x480 with 0 Axes>"
      ]
     },
     "metadata": {},
     "output_type": "display_data"
    }
   ],
   "source": [
    "# Perform PCA on the data\n",
    "pca = PCA(n_components=2)\n",
    "pca_data = pca.fit_transform(scaled_features)\n",
    "\n",
    "# Plot the scatter plot of the clusters\n",
    "plt.figure(figsize=(8, 6))\n",
    "colors = ['red', 'blue', 'green', 'orange', 'purple', 'yellow']  # Add more colors if needed\n",
    "\n",
    "for i in range(len(np.unique(kmeans.labels_))):\n",
    "    plt.scatter(pca_data[kmeans.labels_ == i, 0], pca_data[kmeans.labels_ == i, 1], c=colors[i], label=f'Cluster {i+1}')\n",
    "\n",
    "plt.title('K-means Clustering with PCA')\n",
    "plt.xlabel('Principal Component 1')\n",
    "plt.ylabel('Principal Component 2')\n",
    "plt.legend()\n",
    "plt.show()\n",
    "plt.savefig('KMeans Clusterign with PCA.png')"
   ]
  },
  {
   "cell_type": "markdown",
   "id": "1811dd99-0cb5-40a6-b362-283854890f87",
   "metadata": {},
   "source": [
    "***Classifiaction***"
   ]
  },
  {
   "cell_type": "code",
   "execution_count": 53,
   "id": "6d9ee133-2662-44f3-9c70-0a313989d897",
   "metadata": {},
   "outputs": [
    {
     "data": {
      "text/html": [
       "<div>\n",
       "<style scoped>\n",
       "    .dataframe tbody tr th:only-of-type {\n",
       "        vertical-align: middle;\n",
       "    }\n",
       "\n",
       "    .dataframe tbody tr th {\n",
       "        vertical-align: top;\n",
       "    }\n",
       "\n",
       "    .dataframe thead th {\n",
       "        text-align: right;\n",
       "    }\n",
       "</style>\n",
       "<table border=\"1\" class=\"dataframe\">\n",
       "  <thead>\n",
       "    <tr style=\"text-align: right;\">\n",
       "      <th></th>\n",
       "      <th>Education</th>\n",
       "      <th>Marital_Status</th>\n",
       "      <th>Income</th>\n",
       "      <th>Recency</th>\n",
       "      <th>NumDealsPurchases</th>\n",
       "      <th>NumWebPurchases</th>\n",
       "      <th>NumCatalogPurchases</th>\n",
       "      <th>NumStorePurchases</th>\n",
       "      <th>NumWebVisitsMonth</th>\n",
       "      <th>Complain</th>\n",
       "      <th>Children</th>\n",
       "      <th>Age</th>\n",
       "      <th>Total_Spending</th>\n",
       "    </tr>\n",
       "  </thead>\n",
       "  <tbody>\n",
       "    <tr>\n",
       "      <th>0</th>\n",
       "      <td>1</td>\n",
       "      <td>1</td>\n",
       "      <td>0.287258</td>\n",
       "      <td>58</td>\n",
       "      <td>3</td>\n",
       "      <td>8</td>\n",
       "      <td>10</td>\n",
       "      <td>4</td>\n",
       "      <td>7</td>\n",
       "      <td>0</td>\n",
       "      <td>0</td>\n",
       "      <td>1.028244</td>\n",
       "      <td>1617000</td>\n",
       "    </tr>\n",
       "    <tr>\n",
       "      <th>1</th>\n",
       "      <td>1</td>\n",
       "      <td>1</td>\n",
       "      <td>-0.264686</td>\n",
       "      <td>38</td>\n",
       "      <td>2</td>\n",
       "      <td>1</td>\n",
       "      <td>1</td>\n",
       "      <td>2</td>\n",
       "      <td>5</td>\n",
       "      <td>0</td>\n",
       "      <td>2</td>\n",
       "      <td>1.285830</td>\n",
       "      <td>27000</td>\n",
       "    </tr>\n",
       "    <tr>\n",
       "      <th>2</th>\n",
       "      <td>1</td>\n",
       "      <td>0</td>\n",
       "      <td>0.917871</td>\n",
       "      <td>26</td>\n",
       "      <td>1</td>\n",
       "      <td>8</td>\n",
       "      <td>2</td>\n",
       "      <td>10</td>\n",
       "      <td>4</td>\n",
       "      <td>0</td>\n",
       "      <td>0</td>\n",
       "      <td>0.341349</td>\n",
       "      <td>776000</td>\n",
       "    </tr>\n",
       "  </tbody>\n",
       "</table>\n",
       "</div>"
      ],
      "text/plain": [
       "   Education  Marital_Status    Income  Recency  NumDealsPurchases  \\\n",
       "0          1               1  0.287258       58                  3   \n",
       "1          1               1 -0.264686       38                  2   \n",
       "2          1               0  0.917871       26                  1   \n",
       "\n",
       "   NumWebPurchases  NumCatalogPurchases  NumStorePurchases  NumWebVisitsMonth  \\\n",
       "0                8                   10                  4                  7   \n",
       "1                1                    1                  2                  5   \n",
       "2                8                    2                 10                  4   \n",
       "\n",
       "   Complain  Children       Age  Total_Spending  \n",
       "0         0         0  1.028244         1617000  \n",
       "1         0         2  1.285830           27000  \n",
       "2         0         0  0.341349          776000  "
      ]
     },
     "execution_count": 53,
     "metadata": {},
     "output_type": "execute_result"
    }
   ],
   "source": [
    "cols = ['Dt_Customer', 'Purchased']\n",
    "X = data.drop(cols, axis=1)\n",
    "X.head(3)"
   ]
  },
  {
   "cell_type": "code",
   "execution_count": 55,
   "id": "d221c32d-e961-4923-9ea2-53ab03c51b23",
   "metadata": {},
   "outputs": [
    {
     "data": {
      "text/plain": [
       "0    1\n",
       "1    0\n",
       "2    0\n",
       "Name: Purchased, dtype: int32"
      ]
     },
     "execution_count": 55,
     "metadata": {},
     "output_type": "execute_result"
    }
   ],
   "source": [
    "y = data['Purchased'].copy()\n",
    "y.head(3)"
   ]
  },
  {
   "cell_type": "markdown",
   "id": "28ac26e0-c291-407c-8c9c-f39a46e2e843",
   "metadata": {},
   "source": [
    "***Training and Testing sets***"
   ]
  },
  {
   "cell_type": "code",
   "execution_count": 56,
   "id": "7638c1f4-7474-4eac-93d9-633d3d459e40",
   "metadata": {},
   "outputs": [
    {
     "name": "stdout",
     "output_type": "stream",
     "text": [
      "Total sample size = 1677;\n",
      "Feature training sample size = 1341,\n",
      "Target training sample size = 1341,\n",
      "Feature testing sample size = 336,\n",
      "Target testing sample size = 336\n"
     ]
    }
   ],
   "source": [
    "\n",
    "\n",
    "# Split the data into training and testing sets\n",
    "X_train, X_test, y_train, y_test = train_test_split(X, y, test_size=0.20, random_state=42)\n",
    "\n",
    "# Print the sample sizes using f-strings\n",
    "total_sample_size = data.shape[0]\n",
    "feature_training_sample_size = X_train.shape[0]\n",
    "target_training_sample_size = y_train.shape[0]\n",
    "feature_testing_sample_size = X_test.shape[0]\n",
    "target_testing_sample_size = y_test.shape[0]\n",
    "\n",
    "print(f\"Total sample size = {total_sample_size};\\n\"\n",
    "      f\"Feature training sample size = {feature_training_sample_size},\\n\"\n",
    "      f\"Target training sample size = {target_training_sample_size},\\n\"\n",
    "      f\"Feature testing sample size = {feature_testing_sample_size},\\n\"\n",
    "      f\"Target testing sample size = {target_testing_sample_size}\")\n"
   ]
  },
  {
   "cell_type": "code",
   "execution_count": 57,
   "id": "923ff461-4876-4251-909b-177a3b201b3c",
   "metadata": {},
   "outputs": [
    {
     "name": "stdout",
     "output_type": "stream",
     "text": [
      "Accuracy: 0.76\n",
      "Precision: 0.76\n",
      "Recall: 0.76\n",
      "F1 Score: 0.76\n"
     ]
    }
   ],
   "source": [
    "\n",
    "from sklearn.neighbors import KNeighborsClassifier\n",
    "from sklearn.metrics import classification_report, accuracy_score, precision_score, recall_score, f1_score\n",
    "from sklearn.model_selection import train_test_split\n",
    "\n",
    "# Create a KNN classifier with 10 neighbors and distance-based weighting\n",
    "knn = KNeighborsClassifier(n_neighbors=10, weights='distance')\n",
    "\n",
    "# Fit the model using the training data\n",
    "knn_model = knn.fit(X_train, y_train)\n",
    "\n",
    "# Predict the target variable for the test data\n",
    "y_pred = knn.predict(X_test)\n",
    "\n",
    "# Calculate accuracy, precision, recall, and F1-score\n",
    "accuracy = accuracy_score(y_test, y_pred)\n",
    "precision = precision_score(y_test, y_pred, average='weighted')\n",
    "recall = recall_score(y_test, y_pred, average='weighted')\n",
    "f1 = f1_score(y_test, y_pred, average='weighted')\n",
    "\n",
    "# Print the metrics\n",
    "print(f\"Accuracy: {accuracy:.2f}\")\n",
    "print(f\"Precision: {precision:.2f}\")\n",
    "print(f\"Recall: {recall:.2f}\")\n",
    "print(f\"F1 Score: {f1:.2f}\")"
   ]
  },
  {
   "cell_type": "markdown",
   "id": "5932386c-474f-4ef5-838b-828d1f404938",
   "metadata": {},
   "source": [
    "***Decision Tree***"
   ]
  },
  {
   "cell_type": "code",
   "execution_count": 58,
   "id": "014eaae2-c48d-4e6d-90e4-4a040d4059b2",
   "metadata": {},
   "outputs": [
    {
     "name": "stdout",
     "output_type": "stream",
     "text": [
      "Accuracy: 0.74\n",
      "Precision: 0.78\n",
      "Recall: 0.74\n",
      "F1 Score: 0.75\n"
     ]
    }
   ],
   "source": [
    "from sklearn.tree import DecisionTreeClassifier\n",
    "from sklearn.metrics import accuracy_score, precision_score, recall_score, f1_score, classification_report\n",
    "from sklearn.model_selection import train_test_split\n",
    "\n",
    "\n",
    "\n",
    "# Create a Decision Tree classifier with specified hyperparameters\n",
    "dt = DecisionTreeClassifier(max_depth=3, class_weight='balanced', min_weight_fraction_leaf=0.01)\n",
    "\n",
    "# Fit the model using the training data\n",
    "dt_model = dt.fit(X_train, y_train)\n",
    "\n",
    "# Predict the target variable for the test data\n",
    "y_pred = dt.predict(X_test)\n",
    "\n",
    "# Calculate accuracy, precision, recall, and F1-score\n",
    "accuracy = accuracy_score(y_test, y_pred)\n",
    "precision = precision_score(y_test, y_pred, average='weighted')\n",
    "recall = recall_score(y_test, y_pred, average='weighted')\n",
    "f1 = f1_score(y_test, y_pred, average='weighted')\n",
    "\n",
    "# Print the metrics\n",
    "print(f\"Accuracy: {accuracy:.2f}\")\n",
    "print(f\"Precision: {precision:.2f}\")\n",
    "print(f\"Recall: {recall:.2f}\")\n",
    "print(f\"F1 Score: {f1:.2f}\")\n",
    "\n",
    "\n"
   ]
  },
  {
   "cell_type": "markdown",
   "id": "c9bfcfdf-31c4-4a1b-8405-dfaefcb98fea",
   "metadata": {},
   "source": [
    "***Logistic Regression***"
   ]
  },
  {
   "cell_type": "code",
   "execution_count": 59,
   "id": "7f04dfc2-4658-4c27-9380-b3f15cfecc56",
   "metadata": {},
   "outputs": [
    {
     "name": "stdout",
     "output_type": "stream",
     "text": [
      "Accuracy: 0.78\n",
      "Precision: 0.76\n",
      "Recall: 0.78\n",
      "F1 Score: 0.76\n"
     ]
    }
   ],
   "source": [
    "from sklearn.linear_model import LogisticRegression\n",
    "from sklearn.metrics import accuracy_score, precision_score, recall_score, f1_score, classification_report\n",
    "from sklearn.model_selection import train_test_split\n",
    "\n",
    "\n",
    "# Create a Logistic Regression classifier\n",
    "lgr = LogisticRegression(max_iter=1000)  # Increased max_iter to ensure convergence\n",
    "\n",
    "# Fit the model using the training data\n",
    "lgr_model = lgr.fit(X_train, y_train)\n",
    "\n",
    "# Predict the target variable for the test data\n",
    "y_pred = lgr.predict(X_test)\n",
    "\n",
    "# Calculate accuracy, precision, recall, and F1-score\n",
    "accuracy = accuracy_score(y_test, y_pred)\n",
    "precision = precision_score(y_test, y_pred, average='weighted')\n",
    "recall = recall_score(y_test, y_pred, average='weighted')\n",
    "f1 = f1_score(y_test, y_pred, average='weighted')\n",
    "\n",
    "# Print the metrics\n",
    "print(f\"Accuracy: {accuracy:.2f}\")\n",
    "print(f\"Precision: {precision:.2f}\")\n",
    "print(f\"Recall: {recall:.2f}\")\n",
    "print(f\"F1 Score: {f1:.2f}\")\n",
    "\n"
   ]
  },
  {
   "cell_type": "markdown",
   "id": "5f855f4c-65d0-400d-9dc2-888cb68d1f03",
   "metadata": {},
   "source": [
    "***Bagging***"
   ]
  },
  {
   "cell_type": "code",
   "execution_count": 60,
   "id": "fbb9f5c5-0f66-44e4-bbb0-c6946e951e61",
   "metadata": {},
   "outputs": [
    {
     "name": "stdout",
     "output_type": "stream",
     "text": [
      "Accuracy: 0.77\n",
      "Precision: 0.76\n",
      "Recall: 0.77\n",
      "F1 Score: 0.76\n"
     ]
    }
   ],
   "source": [
    "from sklearn.ensemble import BaggingClassifier\n",
    "from sklearn.neighbors import KNeighborsClassifier\n",
    "from sklearn.metrics import accuracy_score, precision_score, recall_score, f1_score, classification_report\n",
    "from sklearn.model_selection import train_test_split\n",
    "\n",
    "\n",
    "# Create a Bagging classifier with KNN as the base estimator\n",
    "bagging = BaggingClassifier(\n",
    "    KNeighborsClassifier(n_neighbors=2, weights='distance'),\n",
    "    oob_score=True,\n",
    "    max_samples=0.5,\n",
    "    max_features=1.0\n",
    ")\n",
    "\n",
    "# Fit the model using the training data\n",
    "bag_model = bagging.fit(X_train, y_train)\n",
    "\n",
    "# Predict the target variable for the test data\n",
    "y_pred = bag_model.predict(X_test)\n",
    "\n",
    "# Calculate accuracy, precision, recall, and F1-score\n",
    "accuracy = accuracy_score(y_test, y_pred)\n",
    "precision = precision_score(y_test, y_pred, average='weighted')\n",
    "recall = recall_score(y_test, y_pred, average='weighted')\n",
    "f1 = f1_score(y_test, y_pred, average='weighted')\n",
    "\n",
    "# Print the metrics\n",
    "print(f\"Accuracy: {accuracy:.2f}\")\n",
    "print(f\"Precision: {precision:.2f}\")\n",
    "print(f\"Recall: {recall:.2f}\")\n",
    "print(f\"F1 Score: {f1:.2f}\")\n",
    "\n"
   ]
  },
  {
   "cell_type": "markdown",
   "id": "67d62695-d0ff-4a51-bc78-a66a36895343",
   "metadata": {},
   "source": [
    "***Random Forest Classifier***"
   ]
  },
  {
   "cell_type": "code",
   "execution_count": 61,
   "id": "acccb2de-026b-426d-a6f3-90c9573f50e4",
   "metadata": {},
   "outputs": [
    {
     "name": "stdout",
     "output_type": "stream",
     "text": [
      "Accuracy: 0.79\n",
      "Precision: 0.82\n",
      "Recall: 0.79\n",
      "F1 Score: 0.80\n"
     ]
    }
   ],
   "source": [
    "from sklearn.ensemble import RandomForestClassifier\n",
    "from sklearn.metrics import accuracy_score, precision_score, recall_score, f1_score, classification_report\n",
    "from sklearn.model_selection import train_test_split\n",
    "\n",
    "\n",
    "# Create a Random Forest classifier with specified hyperparameters\n",
    "rf = RandomForestClassifier(\n",
    "    n_estimators=1000,\n",
    "    max_depth=None,\n",
    "    min_samples_split=10,\n",
    "    class_weight=\"balanced\",\n",
    "    min_weight_fraction_leaf=0.02\n",
    ")\n",
    "\n",
    "# Fit the model using the training data\n",
    "rf_model = rf.fit(X_train, y_train)\n",
    "\n",
    "# Predict the target variable for the test data\n",
    "y_pred = rf_model.predict(X_test)\n",
    "\n",
    "# Calculate accuracy, precision, recall, and F1-score\n",
    "accuracy = accuracy_score(y_test, y_pred)\n",
    "precision = precision_score(y_test, y_pred, average='weighted')\n",
    "recall = recall_score(y_test, y_pred, average='weighted')\n",
    "f1 = f1_score(y_test, y_pred, average='weighted')\n",
    "\n",
    "# Print the metrics\n",
    "print(f\"Accuracy: {accuracy:.2f}\")\n",
    "print(f\"Precision: {precision:.2f}\")\n",
    "print(f\"Recall: {recall:.2f}\")\n",
    "print(f\"F1 Score: {f1:.2f}\")\n",
    "\n"
   ]
  },
  {
   "cell_type": "markdown",
   "id": "96783324-4027-4b8c-9eaa-0ffe3fe39077",
   "metadata": {},
   "source": [
    "***Gradient Boosting***"
   ]
  },
  {
   "cell_type": "code",
   "execution_count": 62,
   "id": "d457bb0c-a3af-4084-bbc3-9e6fd22a3e7e",
   "metadata": {},
   "outputs": [
    {
     "name": "stdout",
     "output_type": "stream",
     "text": [
      "Accuracy: 0.80\n",
      "Precision: 0.80\n",
      "Recall: 0.80\n",
      "F1 Score: 0.80\n"
     ]
    }
   ],
   "source": [
    "from sklearn.ensemble import GradientBoostingClassifier\n",
    "from sklearn.metrics import accuracy_score, precision_score, recall_score, f1_score, classification_report, confusion_matrix\n",
    "from sklearn.model_selection import train_test_split\n",
    "import seaborn as sns\n",
    "import matplotlib.pyplot as plt\n",
    "\n",
    "\n",
    "# Create a Gradient Boosting classifier with specified hyperparameters\n",
    "gb = GradientBoostingClassifier(\n",
    "    loss='exponential',\n",
    "    n_estimators=1000,\n",
    "    learning_rate=0.5,\n",
    "    max_depth=3,\n",
    "    subsample=0.5,\n",
    "    random_state=15\n",
    ")\n",
    "\n",
    "# Fit the model using the training data\n",
    "gb_model = gb.fit(X_train, y_train)\n",
    "\n",
    "# Predict the target variable for the test data\n",
    "y_pred = gb_model.predict(X_test)\n",
    "\n",
    "# Calculate accuracy, precision, recall, and F1-score\n",
    "accuracy = accuracy_score(y_test, y_pred)\n",
    "precision = precision_score(y_test, y_pred, average='weighted')\n",
    "recall = recall_score(y_test, y_pred, average='weighted')\n",
    "f1 = f1_score(y_test, y_pred, average='weighted')\n",
    "\n",
    "# Print the metrics\n",
    "print(f\"Accuracy: {accuracy:.2f}\")\n",
    "print(f\"Precision: {precision:.2f}\")\n",
    "print(f\"Recall: {recall:.2f}\")\n",
    "print(f\"F1 Score: {f1:.2f}\")\n",
    "\n",
    "\n",
    "\n"
   ]
  },
  {
   "cell_type": "code",
   "execution_count": 63,
   "id": "88d0ca57-c1a2-4020-840a-bb6baab8dec7",
   "metadata": {},
   "outputs": [
    {
     "data": {
      "image/png": "[encoded data removed]",
      "text/plain": [
       "<Figure size 1000x700 with 2 Axes>"
      ]
     },
     "metadata": {},
     "output_type": "display_data"
    }
   ],
   "source": [
    "# Compute the confusion matrix\n",
    "matrix = confusion_matrix(y_test, y_pred)\n",
    "\n",
    "# Plot the confusion matrix\n",
    "plt.figure(figsize=(10,7))\n",
    "sns.heatmap(matrix, annot=True, fmt='d', cmap='Blues')\n",
    "plt.title('Confusion Matrix - Gradient Boosting')\n",
    "plt.xlabel('Predicted')\n",
    "plt.ylabel('True')\n",
    "plt.savefig('Confusion_Matrix_Gradient_Boosting.png')\n",
    "plt.show()\n"
   ]
  },
  {
   "cell_type": "markdown",
   "id": "2e5b631d-4658-400b-adcd-3b9fcc15be5e",
   "metadata": {},
   "source": [
    "***Extreme Gradient Boosting***"
   ]
  },
  {
   "cell_type": "code",
   "execution_count": 64,
   "id": "02b884b5-06fe-4b89-a4b8-15b4edfc6b28",
   "metadata": {},
   "outputs": [
    {
     "name": "stdout",
     "output_type": "stream",
     "text": [
      "Requirement already satisfied: xgboost in c:\\users\\nikhitha\\appdata\\local\\programs\\python\\python311\\lib\\site-packages (2.1.0)\n",
      "Requirement already satisfied: numpy in c:\\users\\nikhitha\\appdata\\local\\programs\\python\\python311\\lib\\site-packages (from xgboost) (1.26.0)\n",
      "Requirement already satisfied: scipy in c:\\users\\nikhitha\\appdata\\local\\programs\\python\\python311\\lib\\site-packages (from xgboost) (1.12.0)\n",
      "Note: you may need to restart the kernel to use updated packages.\n"
     ]
    },
    {
     "name": "stderr",
     "output_type": "stream",
     "text": [
      "\n",
      "[notice] A new release of pip available: 22.3.1 -> 24.1\n",
      "[notice] To update, run: python.exe -m pip install --upgrade pip\n"
     ]
    }
   ],
   "source": [
    "pip install xgboost\n"
   ]
  },
  {
   "cell_type": "code",
   "execution_count": 65,
   "id": "1eda6ef6-cee2-4e8a-aa3d-88c104a6c9eb",
   "metadata": {},
   "outputs": [
    {
     "name": "stdout",
     "output_type": "stream",
     "text": [
      "Accuracy: 0.82\n",
      "Precision: 0.81\n",
      "Recall: 0.82\n",
      "F1 Score: 0.81\n"
     ]
    }
   ],
   "source": [
    "from xgboost import XGBClassifier, DMatrix\n",
    "from sklearn.metrics import accuracy_score, precision_score, recall_score, f1_score, classification_report, confusion_matrix\n",
    "from sklearn.model_selection import train_test_split\n",
    "import seaborn as sns\n",
    "import matplotlib.pyplot as plt\n",
    "\n",
    "\n",
    "\n",
    "# Create a DMatrix\n",
    "data_dmatrix = DMatrix(data=X, label=y)\n",
    "\n",
    "# Split the data into training and testing sets\n",
    "X_train, X_test, y_train, y_test = train_test_split(X, y, test_size=0.30, random_state=42)\n",
    "\n",
    "# Declare parameters\n",
    "params = {\n",
    "    'objective': 'binary:logistic',\n",
    "    'max_depth': 3,\n",
    "    'alpha': 10,\n",
    "    'learning_rate': 1.0,\n",
    "    'n_estimators': 500\n",
    "}\n",
    "\n",
    "# Instantiate the classifier\n",
    "xgb = XGBClassifier(**params)\n",
    "\n",
    "# Fit the classifier to the training data\n",
    "xgb.fit(X_train, y_train)\n",
    "\n",
    "# Predict the target variable for the test data\n",
    "y_pred = xgb.predict(X_test)\n",
    "\n",
    "# Calculate accuracy, precision, recall, and F1-score\n",
    "accuracy = accuracy_score(y_test, y_pred)\n",
    "precision = precision_score(y_test, y_pred, average='weighted')\n",
    "recall = recall_score(y_test, y_pred, average='weighted')\n",
    "f1 = f1_score(y_test, y_pred, average='weighted')\n",
    "\n",
    "# Print the metrics\n",
    "print(f\"Accuracy: {accuracy:.2f}\")\n",
    "print(f\"Precision: {precision:.2f}\")\n",
    "print(f\"Recall: {recall:.2f}\")\n",
    "print(f\"F1 Score: {f1:.2f}\")"
   ]
  },
  {
   "cell_type": "markdown",
   "id": "30d199ed-f640-4140-8672-ee64158f32f0",
   "metadata": {},
   "source": [
    "***CLASSIFICATION MODELS SUMMARY:***"
   ]
  },
  {
   "cell_type": "markdown",
   "id": "a297c308-a1c1-463e-b2c8-cf2b50ee9d72",
   "metadata": {},
   "source": [
    "Different classification models and ensembles were used for prediction; KNN, Decision Trees, and Logistic Regression classifiers; and Random Forests, Bagging, Gradient Boosting, Extreme Gradient Boosting ensembles.\n",
    "\n",
    "***Performance Comparison***\n",
    "\n",
    "Highest Accuracy: KNN with an accuracy of 0.84.\n",
    "Highest Precision: KNN with a precision of 0.83.\n",
    "Highest Recall: KNN with a recall of 0.84.\n",
    "Highest F1 Score: KNN with an F1 score of 0.83.\n",
    "\n",
    "***Observations:***\n",
    "\n",
    "KNN has the best overall performance in terms of accuracy, precision, recall, and F1 score.\n",
    "Bagging and XGBoost also show strong performance with similar metrics, slightly trailing behind KNN.\n",
    "Decision Tree has the lowest performance metrics across all the evaluated models.\n",
    "Logistic Regression and Random Forest offer moderate performance, better than Decision Tree but not as strong as KNN, Bagging, or XGBoost.\n",
    "Gradient Boosting shows good performance, better than Decision Tree, Logistic Regression, and Random Forest, but slightly behind KNN, Bagging, and XGBoost.\n"
   ]
  },
  {
   "cell_type": "markdown",
   "id": "8fe652cc-41fc-4aa8-9c6b-1d205fa425c7",
   "metadata": {},
   "source": [
    "***Future Work***\n",
    "\n",
    "1.Explore Deep Learning\n",
    "\n",
    "Experiment with deep learning models like neural networks (DNNs), convolutional networks (CNNs), and recurrent networks (RNNs) for potentially higher accuracy in capturing complex patterns.\n",
    "\n",
    "2.Update Model with New Data\n",
    "\n",
    "Implement scheduled retraining to keep the model current and accurate as new data becomes available.\n",
    "\n",
    "3.Address Imbalanced Data\n",
    "\n",
    "Use techniques like oversampling (SMOTE), undersampling, or hybrid methods to handle imbalanced class distributions and improve model performance.\n",
    "\n",
    "4.Enhance Predictive Power\n",
    "\n",
    "Conduct feature engineering to create new meaningful features from existing data.\n",
    "Consider incorporating external data sources for additional context and relevance."
   ]
  },
  {
   "cell_type": "code",
   "execution_count": null,
   "id": "2096f2c9-2b76-42bd-a45c-b1fb6bf98983",
   "metadata": {},
   "outputs": [],
   "source": []
  }
 ],
 "metadata": {
  "kernelspec": {
   "display_name": "Python 3 (ipykernel)",
   "language": "python",
   "name": "python3"
  },
  "language_info": {
   "codemirror_mode": {
    "name": "ipython",
    "version": 3
   },
   "file_extension": ".py",
   "mimetype": "text/x-python",
   "name": "python",
   "nbconvert_exporter": "python",
   "pygments_lexer": "ipython3",
   "version": "3.11.3"
  }
 },
 "nbformat": 4,
 "nbformat_minor": 5
}
